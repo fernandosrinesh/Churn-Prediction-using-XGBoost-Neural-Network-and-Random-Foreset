{
  "cells": [
    {
      "cell_type": "markdown",
      "metadata": {
        "id": "vuKWJzqr4uo-"
      },
      "source": [
        "# Name: Srinesh Heshan\n",
        "\n",
        "# Project: Individual Project\n",
        "\n",
        "# Course: Machine Learning 2 "
      ]
    },
    {
      "cell_type": "markdown",
      "metadata": {
        "id": "2yyO9wcO32Yl"
      },
      "source": [
        "### **Predicting Churn For Bank Customers using Extream Gradient Boost and Neural Networks**\n",
        "\n",
        "\n"
      ]
    },
    {
      "cell_type": "code",
      "execution_count": null,
      "metadata": {
        "id": "7G-jwPSM3rNF"
      },
      "outputs": [],
      "source": [
        "#Importing Libraries \n",
        "\n",
        "import pandas as pd\n",
        "import numpy as np\n",
        "import seaborn as sns\n",
        "import matplotlib.pyplot as plt\n",
        "import os\n",
        "from sklearn.preprocessing import LabelEncoder,StandardScaler\n",
        "from sklearn.model_selection import train_test_split\n",
        "from random import random\n",
        "from sklearn.metrics import confusion_matrix\n",
        "from sklearn.metrics import accuracy_score,classification_report,precision_score, recall_score, f1_score\n",
        "from xgboost import XGBClassifier\n",
        "from matplotlib import pyplot"
      ]
    },
    {
      "cell_type": "code",
      "execution_count": null,
      "metadata": {
        "colab": {
          "base_uri": "https://localhost:8080/",
          "height": 270
        },
        "id": "Yk2t9t_G5n8R",
        "outputId": "e2f0f7e9-7b47-4595-d8a9-c94fabd3244f"
      },
      "outputs": [
        {
          "output_type": "execute_result",
          "data": {
            "text/html": [
              "\n",
              "  <div id=\"df-5efaecb3-44bf-44b7-b4e3-8a8aee6283b5\">\n",
              "    <div class=\"colab-df-container\">\n",
              "      <div>\n",
              "<style scoped>\n",
              "    .dataframe tbody tr th:only-of-type {\n",
              "        vertical-align: middle;\n",
              "    }\n",
              "\n",
              "    .dataframe tbody tr th {\n",
              "        vertical-align: top;\n",
              "    }\n",
              "\n",
              "    .dataframe thead th {\n",
              "        text-align: right;\n",
              "    }\n",
              "</style>\n",
              "<table border=\"1\" class=\"dataframe\">\n",
              "  <thead>\n",
              "    <tr style=\"text-align: right;\">\n",
              "      <th></th>\n",
              "      <th>RowNumber</th>\n",
              "      <th>CustomerId</th>\n",
              "      <th>Surname</th>\n",
              "      <th>CreditScore</th>\n",
              "      <th>Geography</th>\n",
              "      <th>Gender</th>\n",
              "      <th>Age</th>\n",
              "      <th>Tenure</th>\n",
              "      <th>Balance</th>\n",
              "      <th>NumOfProducts</th>\n",
              "      <th>HasCrCard</th>\n",
              "      <th>IsActiveMember</th>\n",
              "      <th>EstimatedSalary</th>\n",
              "      <th>Exited</th>\n",
              "    </tr>\n",
              "  </thead>\n",
              "  <tbody>\n",
              "    <tr>\n",
              "      <th>0</th>\n",
              "      <td>1</td>\n",
              "      <td>15634602</td>\n",
              "      <td>Hargrave</td>\n",
              "      <td>619</td>\n",
              "      <td>France</td>\n",
              "      <td>Female</td>\n",
              "      <td>42</td>\n",
              "      <td>2</td>\n",
              "      <td>0.00</td>\n",
              "      <td>1</td>\n",
              "      <td>1</td>\n",
              "      <td>1</td>\n",
              "      <td>101348.88</td>\n",
              "      <td>1</td>\n",
              "    </tr>\n",
              "    <tr>\n",
              "      <th>1</th>\n",
              "      <td>2</td>\n",
              "      <td>15647311</td>\n",
              "      <td>Hill</td>\n",
              "      <td>608</td>\n",
              "      <td>Spain</td>\n",
              "      <td>Female</td>\n",
              "      <td>41</td>\n",
              "      <td>1</td>\n",
              "      <td>83807.86</td>\n",
              "      <td>1</td>\n",
              "      <td>0</td>\n",
              "      <td>1</td>\n",
              "      <td>112542.58</td>\n",
              "      <td>0</td>\n",
              "    </tr>\n",
              "    <tr>\n",
              "      <th>2</th>\n",
              "      <td>3</td>\n",
              "      <td>15619304</td>\n",
              "      <td>Onio</td>\n",
              "      <td>502</td>\n",
              "      <td>France</td>\n",
              "      <td>Female</td>\n",
              "      <td>42</td>\n",
              "      <td>8</td>\n",
              "      <td>159660.80</td>\n",
              "      <td>3</td>\n",
              "      <td>1</td>\n",
              "      <td>0</td>\n",
              "      <td>113931.57</td>\n",
              "      <td>1</td>\n",
              "    </tr>\n",
              "    <tr>\n",
              "      <th>3</th>\n",
              "      <td>4</td>\n",
              "      <td>15701354</td>\n",
              "      <td>Boni</td>\n",
              "      <td>699</td>\n",
              "      <td>France</td>\n",
              "      <td>Female</td>\n",
              "      <td>39</td>\n",
              "      <td>1</td>\n",
              "      <td>0.00</td>\n",
              "      <td>2</td>\n",
              "      <td>0</td>\n",
              "      <td>0</td>\n",
              "      <td>93826.63</td>\n",
              "      <td>0</td>\n",
              "    </tr>\n",
              "    <tr>\n",
              "      <th>4</th>\n",
              "      <td>5</td>\n",
              "      <td>15737888</td>\n",
              "      <td>Mitchell</td>\n",
              "      <td>850</td>\n",
              "      <td>Spain</td>\n",
              "      <td>Female</td>\n",
              "      <td>43</td>\n",
              "      <td>2</td>\n",
              "      <td>125510.82</td>\n",
              "      <td>1</td>\n",
              "      <td>1</td>\n",
              "      <td>1</td>\n",
              "      <td>79084.10</td>\n",
              "      <td>0</td>\n",
              "    </tr>\n",
              "  </tbody>\n",
              "</table>\n",
              "</div>\n",
              "      <button class=\"colab-df-convert\" onclick=\"convertToInteractive('df-5efaecb3-44bf-44b7-b4e3-8a8aee6283b5')\"\n",
              "              title=\"Convert this dataframe to an interactive table.\"\n",
              "              style=\"display:none;\">\n",
              "        \n",
              "  <svg xmlns=\"http://www.w3.org/2000/svg\" height=\"24px\"viewBox=\"0 0 24 24\"\n",
              "       width=\"24px\">\n",
              "    <path d=\"M0 0h24v24H0V0z\" fill=\"none\"/>\n",
              "    <path d=\"M18.56 5.44l.94 2.06.94-2.06 2.06-.94-2.06-.94-.94-2.06-.94 2.06-2.06.94zm-11 1L8.5 8.5l.94-2.06 2.06-.94-2.06-.94L8.5 2.5l-.94 2.06-2.06.94zm10 10l.94 2.06.94-2.06 2.06-.94-2.06-.94-.94-2.06-.94 2.06-2.06.94z\"/><path d=\"M17.41 7.96l-1.37-1.37c-.4-.4-.92-.59-1.43-.59-.52 0-1.04.2-1.43.59L10.3 9.45l-7.72 7.72c-.78.78-.78 2.05 0 2.83L4 21.41c.39.39.9.59 1.41.59.51 0 1.02-.2 1.41-.59l7.78-7.78 2.81-2.81c.8-.78.8-2.07 0-2.86zM5.41 20L4 18.59l7.72-7.72 1.47 1.35L5.41 20z\"/>\n",
              "  </svg>\n",
              "      </button>\n",
              "      \n",
              "  <style>\n",
              "    .colab-df-container {\n",
              "      display:flex;\n",
              "      flex-wrap:wrap;\n",
              "      gap: 12px;\n",
              "    }\n",
              "\n",
              "    .colab-df-convert {\n",
              "      background-color: #E8F0FE;\n",
              "      border: none;\n",
              "      border-radius: 50%;\n",
              "      cursor: pointer;\n",
              "      display: none;\n",
              "      fill: #1967D2;\n",
              "      height: 32px;\n",
              "      padding: 0 0 0 0;\n",
              "      width: 32px;\n",
              "    }\n",
              "\n",
              "    .colab-df-convert:hover {\n",
              "      background-color: #E2EBFA;\n",
              "      box-shadow: 0px 1px 2px rgba(60, 64, 67, 0.3), 0px 1px 3px 1px rgba(60, 64, 67, 0.15);\n",
              "      fill: #174EA6;\n",
              "    }\n",
              "\n",
              "    [theme=dark] .colab-df-convert {\n",
              "      background-color: #3B4455;\n",
              "      fill: #D2E3FC;\n",
              "    }\n",
              "\n",
              "    [theme=dark] .colab-df-convert:hover {\n",
              "      background-color: #434B5C;\n",
              "      box-shadow: 0px 1px 3px 1px rgba(0, 0, 0, 0.15);\n",
              "      filter: drop-shadow(0px 1px 2px rgba(0, 0, 0, 0.3));\n",
              "      fill: #FFFFFF;\n",
              "    }\n",
              "  </style>\n",
              "\n",
              "      <script>\n",
              "        const buttonEl =\n",
              "          document.querySelector('#df-5efaecb3-44bf-44b7-b4e3-8a8aee6283b5 button.colab-df-convert');\n",
              "        buttonEl.style.display =\n",
              "          google.colab.kernel.accessAllowed ? 'block' : 'none';\n",
              "\n",
              "        async function convertToInteractive(key) {\n",
              "          const element = document.querySelector('#df-5efaecb3-44bf-44b7-b4e3-8a8aee6283b5');\n",
              "          const dataTable =\n",
              "            await google.colab.kernel.invokeFunction('convertToInteractive',\n",
              "                                                     [key], {});\n",
              "          if (!dataTable) return;\n",
              "\n",
              "          const docLinkHtml = 'Like what you see? Visit the ' +\n",
              "            '<a target=\"_blank\" href=https://colab.research.google.com/notebooks/data_table.ipynb>data table notebook</a>'\n",
              "            + ' to learn more about interactive tables.';\n",
              "          element.innerHTML = '';\n",
              "          dataTable['output_type'] = 'display_data';\n",
              "          await google.colab.output.renderOutput(dataTable, element);\n",
              "          const docLink = document.createElement('div');\n",
              "          docLink.innerHTML = docLinkHtml;\n",
              "          element.appendChild(docLink);\n",
              "        }\n",
              "      </script>\n",
              "    </div>\n",
              "  </div>\n",
              "  "
            ],
            "text/plain": [
              "   RowNumber  CustomerId   Surname  ...  IsActiveMember EstimatedSalary Exited\n",
              "0          1    15634602  Hargrave  ...               1       101348.88      1\n",
              "1          2    15647311      Hill  ...               1       112542.58      0\n",
              "2          3    15619304      Onio  ...               0       113931.57      1\n",
              "3          4    15701354      Boni  ...               0        93826.63      0\n",
              "4          5    15737888  Mitchell  ...               1        79084.10      0\n",
              "\n",
              "[5 rows x 14 columns]"
            ]
          },
          "metadata": {},
          "execution_count": 2
        }
      ],
      "source": [
        "#Uploading dataset\n",
        "df = pd.read_csv(\"Attrition_Modelling.csv\")\n",
        "df.head()"
      ]
    },
    {
      "cell_type": "code",
      "execution_count": null,
      "metadata": {
        "colab": {
          "base_uri": "https://localhost:8080/"
        },
        "id": "PwgnyQYy72FI",
        "outputId": "839395eb-1639-4fad-b1b5-479183f559a5"
      },
      "outputs": [
        {
          "output_type": "stream",
          "name": "stdout",
          "text": [
            "<class 'pandas.core.frame.DataFrame'>\n",
            "RangeIndex: 10000 entries, 0 to 9999\n",
            "Data columns (total 14 columns):\n",
            " #   Column           Non-Null Count  Dtype  \n",
            "---  ------           --------------  -----  \n",
            " 0   RowNumber        10000 non-null  int64  \n",
            " 1   CustomerId       10000 non-null  int64  \n",
            " 2   Surname          10000 non-null  object \n",
            " 3   CreditScore      10000 non-null  int64  \n",
            " 4   Geography        10000 non-null  object \n",
            " 5   Gender           10000 non-null  object \n",
            " 6   Age              10000 non-null  int64  \n",
            " 7   Tenure           10000 non-null  int64  \n",
            " 8   Balance          10000 non-null  float64\n",
            " 9   NumOfProducts    10000 non-null  int64  \n",
            " 10  HasCrCard        10000 non-null  int64  \n",
            " 11  IsActiveMember   10000 non-null  int64  \n",
            " 12  EstimatedSalary  10000 non-null  float64\n",
            " 13  Exited           10000 non-null  int64  \n",
            "dtypes: float64(2), int64(9), object(3)\n",
            "memory usage: 1.1+ MB\n"
          ]
        }
      ],
      "source": [
        "df.info()"
      ]
    },
    {
      "cell_type": "code",
      "execution_count": null,
      "metadata": {
        "colab": {
          "base_uri": "https://localhost:8080/"
        },
        "id": "HWUy5qBs72Ne",
        "outputId": "473dfbcf-8192-4593-ec06-3efd4c64c1d0"
      },
      "outputs": [
        {
          "output_type": "execute_result",
          "data": {
            "text/plain": [
              "RowNumber          0\n",
              "CustomerId         0\n",
              "Surname            0\n",
              "CreditScore        0\n",
              "Geography          0\n",
              "Gender             0\n",
              "Age                0\n",
              "Tenure             0\n",
              "Balance            0\n",
              "NumOfProducts      0\n",
              "HasCrCard          0\n",
              "IsActiveMember     0\n",
              "EstimatedSalary    0\n",
              "Exited             0\n",
              "dtype: int64"
            ]
          },
          "metadata": {},
          "execution_count": 4
        }
      ],
      "source": [
        "#  Checking missing values in dataset\n",
        "df.isnull().sum()"
      ]
    },
    {
      "cell_type": "code",
      "execution_count": null,
      "metadata": {
        "id": "o_5Z0sWc72QV"
      },
      "outputs": [],
      "source": [
        "# Dropping columns which are not necessary for prediction\n",
        "colsToDrop = ['RowNumber','CustomerId','Surname']\n",
        "df = df.drop(colsToDrop, axis=1)"
      ]
    },
    {
      "cell_type": "code",
      "execution_count": null,
      "metadata": {
        "colab": {
          "base_uri": "https://localhost:8080/"
        },
        "id": "C6zUMjIU72Vf",
        "outputId": "ca8f2bf9-093d-4705-f4e0-fcda7e472c1c"
      },
      "outputs": [
        {
          "output_type": "stream",
          "name": "stdout",
          "text": [
            "<class 'pandas.core.frame.DataFrame'>\n",
            "RangeIndex: 10000 entries, 0 to 9999\n",
            "Data columns (total 11 columns):\n",
            " #   Column           Non-Null Count  Dtype  \n",
            "---  ------           --------------  -----  \n",
            " 0   CreditScore      10000 non-null  int64  \n",
            " 1   Geography        10000 non-null  object \n",
            " 2   Gender           10000 non-null  object \n",
            " 3   Age              10000 non-null  int64  \n",
            " 4   Tenure           10000 non-null  int64  \n",
            " 5   Balance          10000 non-null  float64\n",
            " 6   NumOfProducts    10000 non-null  int64  \n",
            " 7   HasCrCard        10000 non-null  int64  \n",
            " 8   IsActiveMember   10000 non-null  int64  \n",
            " 9   EstimatedSalary  10000 non-null  float64\n",
            " 10  Exited           10000 non-null  int64  \n",
            "dtypes: float64(2), int64(7), object(2)\n",
            "memory usage: 859.5+ KB\n"
          ]
        }
      ],
      "source": [
        "df.info()"
      ]
    },
    {
      "cell_type": "markdown",
      "metadata": {
        "id": "dNElEeyOGgn4"
      },
      "source": [
        "### **Analyzing the categorical Features**"
      ]
    },
    {
      "cell_type": "code",
      "execution_count": null,
      "metadata": {
        "colab": {
          "base_uri": "https://localhost:8080/",
          "height": 384
        },
        "id": "Q6bX81VL72YH",
        "outputId": "3dd6da6a-771e-4f51-f2d5-49bbcf8dd398"
      },
      "outputs": [
        {
          "output_type": "display_data",
          "data": {
            "image/png": "[encoded data removed]",
            "text/plain": [
              "<Figure size 1080x5760 with 2 Axes>"
            ]
          },
          "metadata": {}
        }
      ],
      "source": [
        "categorical_features=[feature for feature in df.columns if ((df[feature].dtypes=='O') & (feature not in ['Exited']))]\n",
        "plt.figure(figsize=(15,80), facecolor='white')\n",
        "plotnumber =1\n",
        "for categorical_feature in categorical_features:\n",
        "    ax = plt.subplot(12,3,plotnumber)\n",
        "    sns.countplot(y=categorical_feature,data=df)\n",
        "    plt.xlabel(categorical_feature)\n",
        "    plt.title(categorical_feature)\n",
        "    plotnumber+=1\n",
        "plt.show()"
      ]
    },
    {
      "cell_type": "markdown",
      "metadata": {
        "id": "AUGPqokZSxUn"
      },
      "source": [
        "Integer encoding applying on categorical columns in the dataset"
      ]
    },
    {
      "cell_type": "code",
      "execution_count": null,
      "metadata": {
        "colab": {
          "base_uri": "https://localhost:8080/",
          "height": 206
        },
        "id": "epoNQFpzSp5Z",
        "outputId": "ed6e6d6c-ce07-4d84-ce8b-d778cd666316"
      },
      "outputs": [
        {
          "output_type": "execute_result",
          "data": {
            "text/html": [
              "\n",
              "  <div id=\"df-813f11b0-d9fc-4cbb-a866-d47bac90f593\">\n",
              "    <div class=\"colab-df-container\">\n",
              "      <div>\n",
              "<style scoped>\n",
              "    .dataframe tbody tr th:only-of-type {\n",
              "        vertical-align: middle;\n",
              "    }\n",
              "\n",
              "    .dataframe tbody tr th {\n",
              "        vertical-align: top;\n",
              "    }\n",
              "\n",
              "    .dataframe thead th {\n",
              "        text-align: right;\n",
              "    }\n",
              "</style>\n",
              "<table border=\"1\" class=\"dataframe\">\n",
              "  <thead>\n",
              "    <tr style=\"text-align: right;\">\n",
              "      <th></th>\n",
              "      <th>Geography</th>\n",
              "      <th>Gender</th>\n",
              "    </tr>\n",
              "  </thead>\n",
              "  <tbody>\n",
              "    <tr>\n",
              "      <th>0</th>\n",
              "      <td>France</td>\n",
              "      <td>Female</td>\n",
              "    </tr>\n",
              "    <tr>\n",
              "      <th>1</th>\n",
              "      <td>Spain</td>\n",
              "      <td>Female</td>\n",
              "    </tr>\n",
              "    <tr>\n",
              "      <th>2</th>\n",
              "      <td>France</td>\n",
              "      <td>Female</td>\n",
              "    </tr>\n",
              "    <tr>\n",
              "      <th>3</th>\n",
              "      <td>France</td>\n",
              "      <td>Female</td>\n",
              "    </tr>\n",
              "    <tr>\n",
              "      <th>4</th>\n",
              "      <td>Spain</td>\n",
              "      <td>Female</td>\n",
              "    </tr>\n",
              "  </tbody>\n",
              "</table>\n",
              "</div>\n",
              "      <button class=\"colab-df-convert\" onclick=\"convertToInteractive('df-813f11b0-d9fc-4cbb-a866-d47bac90f593')\"\n",
              "              title=\"Convert this dataframe to an interactive table.\"\n",
              "              style=\"display:none;\">\n",
              "        \n",
              "  <svg xmlns=\"http://www.w3.org/2000/svg\" height=\"24px\"viewBox=\"0 0 24 24\"\n",
              "       width=\"24px\">\n",
              "    <path d=\"M0 0h24v24H0V0z\" fill=\"none\"/>\n",
              "    <path d=\"M18.56 5.44l.94 2.06.94-2.06 2.06-.94-2.06-.94-.94-2.06-.94 2.06-2.06.94zm-11 1L8.5 8.5l.94-2.06 2.06-.94-2.06-.94L8.5 2.5l-.94 2.06-2.06.94zm10 10l.94 2.06.94-2.06 2.06-.94-2.06-.94-.94-2.06-.94 2.06-2.06.94z\"/><path d=\"M17.41 7.96l-1.37-1.37c-.4-.4-.92-.59-1.43-.59-.52 0-1.04.2-1.43.59L10.3 9.45l-7.72 7.72c-.78.78-.78 2.05 0 2.83L4 21.41c.39.39.9.59 1.41.59.51 0 1.02-.2 1.41-.59l7.78-7.78 2.81-2.81c.8-.78.8-2.07 0-2.86zM5.41 20L4 18.59l7.72-7.72 1.47 1.35L5.41 20z\"/>\n",
              "  </svg>\n",
              "      </button>\n",
              "      \n",
              "  <style>\n",
              "    .colab-df-container {\n",
              "      display:flex;\n",
              "      flex-wrap:wrap;\n",
              "      gap: 12px;\n",
              "    }\n",
              "\n",
              "    .colab-df-convert {\n",
              "      background-color: #E8F0FE;\n",
              "      border: none;\n",
              "      border-radius: 50%;\n",
              "      cursor: pointer;\n",
              "      display: none;\n",
              "      fill: #1967D2;\n",
              "      height: 32px;\n",
              "      padding: 0 0 0 0;\n",
              "      width: 32px;\n",
              "    }\n",
              "\n",
              "    .colab-df-convert:hover {\n",
              "      background-color: #E2EBFA;\n",
              "      box-shadow: 0px 1px 2px rgba(60, 64, 67, 0.3), 0px 1px 3px 1px rgba(60, 64, 67, 0.15);\n",
              "      fill: #174EA6;\n",
              "    }\n",
              "\n",
              "    [theme=dark] .colab-df-convert {\n",
              "      background-color: #3B4455;\n",
              "      fill: #D2E3FC;\n",
              "    }\n",
              "\n",
              "    [theme=dark] .colab-df-convert:hover {\n",
              "      background-color: #434B5C;\n",
              "      box-shadow: 0px 1px 3px 1px rgba(0, 0, 0, 0.15);\n",
              "      filter: drop-shadow(0px 1px 2px rgba(0, 0, 0, 0.3));\n",
              "      fill: #FFFFFF;\n",
              "    }\n",
              "  </style>\n",
              "\n",
              "      <script>\n",
              "        const buttonEl =\n",
              "          document.querySelector('#df-813f11b0-d9fc-4cbb-a866-d47bac90f593 button.colab-df-convert');\n",
              "        buttonEl.style.display =\n",
              "          google.colab.kernel.accessAllowed ? 'block' : 'none';\n",
              "\n",
              "        async function convertToInteractive(key) {\n",
              "          const element = document.querySelector('#df-813f11b0-d9fc-4cbb-a866-d47bac90f593');\n",
              "          const dataTable =\n",
              "            await google.colab.kernel.invokeFunction('convertToInteractive',\n",
              "                                                     [key], {});\n",
              "          if (!dataTable) return;\n",
              "\n",
              "          const docLinkHtml = 'Like what you see? Visit the ' +\n",
              "            '<a target=\"_blank\" href=https://colab.research.google.com/notebooks/data_table.ipynb>data table notebook</a>'\n",
              "            + ' to learn more about interactive tables.';\n",
              "          element.innerHTML = '';\n",
              "          dataTable['output_type'] = 'display_data';\n",
              "          await google.colab.output.renderOutput(dataTable, element);\n",
              "          const docLink = document.createElement('div');\n",
              "          docLink.innerHTML = docLinkHtml;\n",
              "          element.appendChild(docLink);\n",
              "        }\n",
              "      </script>\n",
              "    </div>\n",
              "  </div>\n",
              "  "
            ],
            "text/plain": [
              "  Geography  Gender\n",
              "0    France  Female\n",
              "1     Spain  Female\n",
              "2    France  Female\n",
              "3    France  Female\n",
              "4     Spain  Female"
            ]
          },
          "metadata": {},
          "execution_count": 8
        }
      ],
      "source": [
        "#Identify the categorical columns in the dataset\n",
        "obj_df = df.select_dtypes(include=['object']).copy()\n",
        "obj_df.head()"
      ]
    },
    {
      "cell_type": "code",
      "execution_count": null,
      "metadata": {
        "colab": {
          "base_uri": "https://localhost:8080/",
          "height": 270
        },
        "id": "_5H99eqgSqJ2",
        "outputId": "f55a4048-98df-4c82-e696-f1d3caf43471"
      },
      "outputs": [
        {
          "output_type": "execute_result",
          "data": {
            "text/html": [
              "\n",
              "  <div id=\"df-6d3957ba-0a89-4936-888a-22aeb71f95b6\">\n",
              "    <div class=\"colab-df-container\">\n",
              "      <div>\n",
              "<style scoped>\n",
              "    .dataframe tbody tr th:only-of-type {\n",
              "        vertical-align: middle;\n",
              "    }\n",
              "\n",
              "    .dataframe tbody tr th {\n",
              "        vertical-align: top;\n",
              "    }\n",
              "\n",
              "    .dataframe thead th {\n",
              "        text-align: right;\n",
              "    }\n",
              "</style>\n",
              "<table border=\"1\" class=\"dataframe\">\n",
              "  <thead>\n",
              "    <tr style=\"text-align: right;\">\n",
              "      <th></th>\n",
              "      <th>CreditScore</th>\n",
              "      <th>Geography</th>\n",
              "      <th>Gender</th>\n",
              "      <th>Age</th>\n",
              "      <th>Tenure</th>\n",
              "      <th>Balance</th>\n",
              "      <th>NumOfProducts</th>\n",
              "      <th>HasCrCard</th>\n",
              "      <th>IsActiveMember</th>\n",
              "      <th>EstimatedSalary</th>\n",
              "      <th>Exited</th>\n",
              "    </tr>\n",
              "  </thead>\n",
              "  <tbody>\n",
              "    <tr>\n",
              "      <th>0</th>\n",
              "      <td>228</td>\n",
              "      <td>0</td>\n",
              "      <td>0</td>\n",
              "      <td>24</td>\n",
              "      <td>2</td>\n",
              "      <td>0</td>\n",
              "      <td>0</td>\n",
              "      <td>1</td>\n",
              "      <td>1</td>\n",
              "      <td>5068</td>\n",
              "      <td>1</td>\n",
              "    </tr>\n",
              "    <tr>\n",
              "      <th>1</th>\n",
              "      <td>217</td>\n",
              "      <td>2</td>\n",
              "      <td>0</td>\n",
              "      <td>23</td>\n",
              "      <td>1</td>\n",
              "      <td>743</td>\n",
              "      <td>0</td>\n",
              "      <td>0</td>\n",
              "      <td>1</td>\n",
              "      <td>5639</td>\n",
              "      <td>0</td>\n",
              "    </tr>\n",
              "    <tr>\n",
              "      <th>2</th>\n",
              "      <td>111</td>\n",
              "      <td>0</td>\n",
              "      <td>0</td>\n",
              "      <td>24</td>\n",
              "      <td>8</td>\n",
              "      <td>5793</td>\n",
              "      <td>2</td>\n",
              "      <td>1</td>\n",
              "      <td>0</td>\n",
              "      <td>5707</td>\n",
              "      <td>1</td>\n",
              "    </tr>\n",
              "    <tr>\n",
              "      <th>3</th>\n",
              "      <td>308</td>\n",
              "      <td>0</td>\n",
              "      <td>0</td>\n",
              "      <td>21</td>\n",
              "      <td>1</td>\n",
              "      <td>0</td>\n",
              "      <td>1</td>\n",
              "      <td>0</td>\n",
              "      <td>0</td>\n",
              "      <td>4704</td>\n",
              "      <td>0</td>\n",
              "    </tr>\n",
              "    <tr>\n",
              "      <th>4</th>\n",
              "      <td>459</td>\n",
              "      <td>2</td>\n",
              "      <td>0</td>\n",
              "      <td>25</td>\n",
              "      <td>2</td>\n",
              "      <td>3696</td>\n",
              "      <td>0</td>\n",
              "      <td>1</td>\n",
              "      <td>1</td>\n",
              "      <td>3925</td>\n",
              "      <td>0</td>\n",
              "    </tr>\n",
              "  </tbody>\n",
              "</table>\n",
              "</div>\n",
              "      <button class=\"colab-df-convert\" onclick=\"convertToInteractive('df-6d3957ba-0a89-4936-888a-22aeb71f95b6')\"\n",
              "              title=\"Convert this dataframe to an interactive table.\"\n",
              "              style=\"display:none;\">\n",
              "        \n",
              "  <svg xmlns=\"http://www.w3.org/2000/svg\" height=\"24px\"viewBox=\"0 0 24 24\"\n",
              "       width=\"24px\">\n",
              "    <path d=\"M0 0h24v24H0V0z\" fill=\"none\"/>\n",
              "    <path d=\"M18.56 5.44l.94 2.06.94-2.06 2.06-.94-2.06-.94-.94-2.06-.94 2.06-2.06.94zm-11 1L8.5 8.5l.94-2.06 2.06-.94-2.06-.94L8.5 2.5l-.94 2.06-2.06.94zm10 10l.94 2.06.94-2.06 2.06-.94-2.06-.94-.94-2.06-.94 2.06-2.06.94z\"/><path d=\"M17.41 7.96l-1.37-1.37c-.4-.4-.92-.59-1.43-.59-.52 0-1.04.2-1.43.59L10.3 9.45l-7.72 7.72c-.78.78-.78 2.05 0 2.83L4 21.41c.39.39.9.59 1.41.59.51 0 1.02-.2 1.41-.59l7.78-7.78 2.81-2.81c.8-.78.8-2.07 0-2.86zM5.41 20L4 18.59l7.72-7.72 1.47 1.35L5.41 20z\"/>\n",
              "  </svg>\n",
              "      </button>\n",
              "      \n",
              "  <style>\n",
              "    .colab-df-container {\n",
              "      display:flex;\n",
              "      flex-wrap:wrap;\n",
              "      gap: 12px;\n",
              "    }\n",
              "\n",
              "    .colab-df-convert {\n",
              "      background-color: #E8F0FE;\n",
              "      border: none;\n",
              "      border-radius: 50%;\n",
              "      cursor: pointer;\n",
              "      display: none;\n",
              "      fill: #1967D2;\n",
              "      height: 32px;\n",
              "      padding: 0 0 0 0;\n",
              "      width: 32px;\n",
              "    }\n",
              "\n",
              "    .colab-df-convert:hover {\n",
              "      background-color: #E2EBFA;\n",
              "      box-shadow: 0px 1px 2px rgba(60, 64, 67, 0.3), 0px 1px 3px 1px rgba(60, 64, 67, 0.15);\n",
              "      fill: #174EA6;\n",
              "    }\n",
              "\n",
              "    [theme=dark] .colab-df-convert {\n",
              "      background-color: #3B4455;\n",
              "      fill: #D2E3FC;\n",
              "    }\n",
              "\n",
              "    [theme=dark] .colab-df-convert:hover {\n",
              "      background-color: #434B5C;\n",
              "      box-shadow: 0px 1px 3px 1px rgba(0, 0, 0, 0.15);\n",
              "      filter: drop-shadow(0px 1px 2px rgba(0, 0, 0, 0.3));\n",
              "      fill: #FFFFFF;\n",
              "    }\n",
              "  </style>\n",
              "\n",
              "      <script>\n",
              "        const buttonEl =\n",
              "          document.querySelector('#df-6d3957ba-0a89-4936-888a-22aeb71f95b6 button.colab-df-convert');\n",
              "        buttonEl.style.display =\n",
              "          google.colab.kernel.accessAllowed ? 'block' : 'none';\n",
              "\n",
              "        async function convertToInteractive(key) {\n",
              "          const element = document.querySelector('#df-6d3957ba-0a89-4936-888a-22aeb71f95b6');\n",
              "          const dataTable =\n",
              "            await google.colab.kernel.invokeFunction('convertToInteractive',\n",
              "                                                     [key], {});\n",
              "          if (!dataTable) return;\n",
              "\n",
              "          const docLinkHtml = 'Like what you see? Visit the ' +\n",
              "            '<a target=\"_blank\" href=https://colab.research.google.com/notebooks/data_table.ipynb>data table notebook</a>'\n",
              "            + ' to learn more about interactive tables.';\n",
              "          element.innerHTML = '';\n",
              "          dataTable['output_type'] = 'display_data';\n",
              "          await google.colab.output.renderOutput(dataTable, element);\n",
              "          const docLink = document.createElement('div');\n",
              "          docLink.innerHTML = docLinkHtml;\n",
              "          element.appendChild(docLink);\n",
              "        }\n",
              "      </script>\n",
              "    </div>\n",
              "  </div>\n",
              "  "
            ],
            "text/plain": [
              "   CreditScore  Geography  Gender  ...  IsActiveMember  EstimatedSalary  Exited\n",
              "0          228          0       0  ...               1             5068       1\n",
              "1          217          2       0  ...               1             5639       0\n",
              "2          111          0       0  ...               0             5707       1\n",
              "3          308          0       0  ...               0             4704       0\n",
              "4          459          2       0  ...               1             3925       0\n",
              "\n",
              "[5 rows x 11 columns]"
            ]
          },
          "metadata": {},
          "execution_count": 9
        }
      ],
      "source": [
        "#Encoding the categorical values ( Integer encoding )\n",
        "new_df = df.apply(LabelEncoder().fit_transform)\n",
        "new_df.head()"
      ]
    },
    {
      "cell_type": "code",
      "execution_count": null,
      "metadata": {
        "id": "DsNpuDUGSqQe"
      },
      "outputs": [],
      "source": [
        "#Randomization of the dataset\n",
        "np.random.seed(1000)"
      ]
    },
    {
      "cell_type": "markdown",
      "metadata": {
        "id": "AiXiMcNTIKzE"
      },
      "source": [
        "**Correlation matrix**"
      ]
    },
    {
      "cell_type": "code",
      "execution_count": null,
      "metadata": {
        "colab": {
          "base_uri": "https://localhost:8080/",
          "height": 902
        },
        "id": "NoJkZGo6IGAX",
        "outputId": "6da64779-f4ad-446f-8c91-ec99182f8f5b"
      },
      "outputs": [
        {
          "output_type": "execute_result",
          "data": {
            "text/plain": [
              "<matplotlib.axes._subplots.AxesSubplot at 0x7f7e7a0d5990>"
            ]
          },
          "metadata": {},
          "execution_count": 11
        },
        {
          "output_type": "display_data",
          "data": {
            "image/png": "[encoded data removed]",
            "text/plain": [
              "<Figure size 1008x1008 with 2 Axes>"
            ]
          },
          "metadata": {
            "needs_background": "light"
          }
        }
      ],
      "source": [
        "fig, ax = plt.subplots(figsize=(14,14))\n",
        "sns.heatmap(df.corr(), annot=True, linewidths=.5, ax=ax)"
      ]
    },
    {
      "cell_type": "markdown",
      "metadata": {
        "id": "ZRKGJePuHlbP"
      },
      "source": [
        "# **Analyzing the target varible**"
      ]
    },
    {
      "cell_type": "code",
      "execution_count": null,
      "metadata": {
        "colab": {
          "base_uri": "https://localhost:8080/",
          "height": 348
        },
        "id": "31EsGWOIHXm-",
        "outputId": "69ef4b8b-bfe7-4e31-a239-adeeff9d6297"
      },
      "outputs": [
        {
          "output_type": "display_data",
          "data": {
            "image/png": "[encoded data removed]",
            "text/plain": [
              "<Figure size 432x288 with 1 Axes>"
            ]
          },
          "metadata": {
            "needs_background": "light"
          }
        },
        {
          "output_type": "execute_result",
          "data": {
            "text/plain": [
              "Exited\n",
              "0    7963\n",
              "1    2037\n",
              "Name: Exited, dtype: int64"
            ]
          },
          "metadata": {},
          "execution_count": 12
        }
      ],
      "source": [
        "# Churned or Not\n",
        "sns.countplot(x='Exited',data=df)\n",
        "plt.show()\n",
        "df['Exited'].groupby(df['Exited']).count()"
      ]
    },
    {
      "cell_type": "markdown",
      "metadata": {
        "id": "kM3mxREyQhNP"
      },
      "source": [
        "## Seems like need to handle unblance data first before moving further unless machine learning models that going to be predicting mostly the majority class that is 0 Non-Churned. In the next steps I will be handling the scenario by using Synthetic Minority Oversampling Technique available with imbalanced-Learn Library\n",
        "\n",
        "\n",
        "*more Information about smote can be found here: https://machinelearningmastery.com/smote-oversampling-for-imbalanced-classification/*"
      ]
    },
    {
      "cell_type": "markdown",
      "metadata": {
        "id": "MT6GqOGPULyf"
      },
      "source": [
        "Before handling the imbalance data I am applying data normalization, performing data splitting and feature importance analysis procedures."
      ]
    },
    {
      "cell_type": "code",
      "execution_count": null,
      "metadata": {
        "id": "vjTDJfySUJQ3"
      },
      "outputs": [],
      "source": [
        "#Randomization of the dataset\n",
        "np.random.seed(1000)"
      ]
    },
    {
      "cell_type": "code",
      "execution_count": null,
      "metadata": {
        "id": "h2Bi7eEdUsWI"
      },
      "outputs": [],
      "source": [
        "# Seperating the Features and Target Columns \n",
        "df_feat = new_df[new_df.columns[0:-1]] # Feature columns \n",
        "df_head = new_df[new_df.columns[len(new_df.columns)-1]]  # Target variable "
      ]
    },
    {
      "cell_type": "markdown",
      "metadata": {
        "id": "RVGuZU0qUwNt"
      },
      "source": [
        "# Data Normalization"
      ]
    },
    {
      "cell_type": "code",
      "execution_count": null,
      "metadata": {
        "colab": {
          "base_uri": "https://localhost:8080/",
          "height": 270
        },
        "id": "2ljCWPNpUzBX",
        "outputId": "54445174-63c3-45b0-9bd5-ed66ac8c3247"
      },
      "outputs": [
        {
          "output_type": "execute_result",
          "data": {
            "text/html": [
              "\n",
              "  <div id=\"df-3039d43d-bdde-4a8b-948a-917b5c0250ae\">\n",
              "    <div class=\"colab-df-container\">\n",
              "      <div>\n",
              "<style scoped>\n",
              "    .dataframe tbody tr th:only-of-type {\n",
              "        vertical-align: middle;\n",
              "    }\n",
              "\n",
              "    .dataframe tbody tr th {\n",
              "        vertical-align: top;\n",
              "    }\n",
              "\n",
              "    .dataframe thead th {\n",
              "        text-align: right;\n",
              "    }\n",
              "</style>\n",
              "<table border=\"1\" class=\"dataframe\">\n",
              "  <thead>\n",
              "    <tr style=\"text-align: right;\">\n",
              "      <th></th>\n",
              "      <th>CreditScore</th>\n",
              "      <th>Geography</th>\n",
              "      <th>Gender</th>\n",
              "      <th>Age</th>\n",
              "      <th>Tenure</th>\n",
              "      <th>Balance</th>\n",
              "      <th>NumOfProducts</th>\n",
              "      <th>HasCrCard</th>\n",
              "      <th>IsActiveMember</th>\n",
              "      <th>EstimatedSalary</th>\n",
              "    </tr>\n",
              "  </thead>\n",
              "  <tbody>\n",
              "    <tr>\n",
              "      <th>0</th>\n",
              "      <td>-0.327331</td>\n",
              "      <td>-0.901886</td>\n",
              "      <td>-1.095988</td>\n",
              "      <td>0.293793</td>\n",
              "      <td>-1.041760</td>\n",
              "      <td>-0.958432</td>\n",
              "      <td>-0.911583</td>\n",
              "      <td>0.646092</td>\n",
              "      <td>0.970243</td>\n",
              "      <td>0.024035</td>\n",
              "    </tr>\n",
              "    <tr>\n",
              "      <th>1</th>\n",
              "      <td>-0.441331</td>\n",
              "      <td>1.515067</td>\n",
              "      <td>-1.095988</td>\n",
              "      <td>0.198387</td>\n",
              "      <td>-1.387538</td>\n",
              "      <td>-0.608805</td>\n",
              "      <td>-0.911583</td>\n",
              "      <td>-1.547768</td>\n",
              "      <td>0.970243</td>\n",
              "      <td>0.221848</td>\n",
              "    </tr>\n",
              "    <tr>\n",
              "      <th>2</th>\n",
              "      <td>-1.539876</td>\n",
              "      <td>-0.901886</td>\n",
              "      <td>-1.095988</td>\n",
              "      <td>0.293793</td>\n",
              "      <td>1.032908</td>\n",
              "      <td>1.767524</td>\n",
              "      <td>2.527057</td>\n",
              "      <td>0.646092</td>\n",
              "      <td>-1.030670</td>\n",
              "      <td>0.245405</td>\n",
              "    </tr>\n",
              "    <tr>\n",
              "      <th>3</th>\n",
              "      <td>0.501759</td>\n",
              "      <td>-0.901886</td>\n",
              "      <td>-1.095988</td>\n",
              "      <td>0.007575</td>\n",
              "      <td>-1.387538</td>\n",
              "      <td>-0.958432</td>\n",
              "      <td>0.807737</td>\n",
              "      <td>-1.547768</td>\n",
              "      <td>-1.030670</td>\n",
              "      <td>-0.102066</td>\n",
              "    </tr>\n",
              "    <tr>\n",
              "      <th>4</th>\n",
              "      <td>2.066668</td>\n",
              "      <td>1.515067</td>\n",
              "      <td>-1.095988</td>\n",
              "      <td>0.389199</td>\n",
              "      <td>-1.041760</td>\n",
              "      <td>0.780759</td>\n",
              "      <td>-0.911583</td>\n",
              "      <td>0.646092</td>\n",
              "      <td>0.970243</td>\n",
              "      <td>-0.371937</td>\n",
              "    </tr>\n",
              "  </tbody>\n",
              "</table>\n",
              "</div>\n",
              "      <button class=\"colab-df-convert\" onclick=\"convertToInteractive('df-3039d43d-bdde-4a8b-948a-917b5c0250ae')\"\n",
              "              title=\"Convert this dataframe to an interactive table.\"\n",
              "              style=\"display:none;\">\n",
              "        \n",
              "  <svg xmlns=\"http://www.w3.org/2000/svg\" height=\"24px\"viewBox=\"0 0 24 24\"\n",
              "       width=\"24px\">\n",
              "    <path d=\"M0 0h24v24H0V0z\" fill=\"none\"/>\n",
              "    <path d=\"M18.56 5.44l.94 2.06.94-2.06 2.06-.94-2.06-.94-.94-2.06-.94 2.06-2.06.94zm-11 1L8.5 8.5l.94-2.06 2.06-.94-2.06-.94L8.5 2.5l-.94 2.06-2.06.94zm10 10l.94 2.06.94-2.06 2.06-.94-2.06-.94-.94-2.06-.94 2.06-2.06.94z\"/><path d=\"M17.41 7.96l-1.37-1.37c-.4-.4-.92-.59-1.43-.59-.52 0-1.04.2-1.43.59L10.3 9.45l-7.72 7.72c-.78.78-.78 2.05 0 2.83L4 21.41c.39.39.9.59 1.41.59.51 0 1.02-.2 1.41-.59l7.78-7.78 2.81-2.81c.8-.78.8-2.07 0-2.86zM5.41 20L4 18.59l7.72-7.72 1.47 1.35L5.41 20z\"/>\n",
              "  </svg>\n",
              "      </button>\n",
              "      \n",
              "  <style>\n",
              "    .colab-df-container {\n",
              "      display:flex;\n",
              "      flex-wrap:wrap;\n",
              "      gap: 12px;\n",
              "    }\n",
              "\n",
              "    .colab-df-convert {\n",
              "      background-color: #E8F0FE;\n",
              "      border: none;\n",
              "      border-radius: 50%;\n",
              "      cursor: pointer;\n",
              "      display: none;\n",
              "      fill: #1967D2;\n",
              "      height: 32px;\n",
              "      padding: 0 0 0 0;\n",
              "      width: 32px;\n",
              "    }\n",
              "\n",
              "    .colab-df-convert:hover {\n",
              "      background-color: #E2EBFA;\n",
              "      box-shadow: 0px 1px 2px rgba(60, 64, 67, 0.3), 0px 1px 3px 1px rgba(60, 64, 67, 0.15);\n",
              "      fill: #174EA6;\n",
              "    }\n",
              "\n",
              "    [theme=dark] .colab-df-convert {\n",
              "      background-color: #3B4455;\n",
              "      fill: #D2E3FC;\n",
              "    }\n",
              "\n",
              "    [theme=dark] .colab-df-convert:hover {\n",
              "      background-color: #434B5C;\n",
              "      box-shadow: 0px 1px 3px 1px rgba(0, 0, 0, 0.15);\n",
              "      filter: drop-shadow(0px 1px 2px rgba(0, 0, 0, 0.3));\n",
              "      fill: #FFFFFF;\n",
              "    }\n",
              "  </style>\n",
              "\n",
              "      <script>\n",
              "        const buttonEl =\n",
              "          document.querySelector('#df-3039d43d-bdde-4a8b-948a-917b5c0250ae button.colab-df-convert');\n",
              "        buttonEl.style.display =\n",
              "          google.colab.kernel.accessAllowed ? 'block' : 'none';\n",
              "\n",
              "        async function convertToInteractive(key) {\n",
              "          const element = document.querySelector('#df-3039d43d-bdde-4a8b-948a-917b5c0250ae');\n",
              "          const dataTable =\n",
              "            await google.colab.kernel.invokeFunction('convertToInteractive',\n",
              "                                                     [key], {});\n",
              "          if (!dataTable) return;\n",
              "\n",
              "          const docLinkHtml = 'Like what you see? Visit the ' +\n",
              "            '<a target=\"_blank\" href=https://colab.research.google.com/notebooks/data_table.ipynb>data table notebook</a>'\n",
              "            + ' to learn more about interactive tables.';\n",
              "          element.innerHTML = '';\n",
              "          dataTable['output_type'] = 'display_data';\n",
              "          await google.colab.output.renderOutput(dataTable, element);\n",
              "          const docLink = document.createElement('div');\n",
              "          docLink.innerHTML = docLinkHtml;\n",
              "          element.appendChild(docLink);\n",
              "        }\n",
              "      </script>\n",
              "    </div>\n",
              "  </div>\n",
              "  "
            ],
            "text/plain": [
              "   CreditScore  Geography    Gender  ...  HasCrCard  IsActiveMember  EstimatedSalary\n",
              "0    -0.327331  -0.901886 -1.095988  ...   0.646092        0.970243         0.024035\n",
              "1    -0.441331   1.515067 -1.095988  ...  -1.547768        0.970243         0.221848\n",
              "2    -1.539876  -0.901886 -1.095988  ...   0.646092       -1.030670         0.245405\n",
              "3     0.501759  -0.901886 -1.095988  ...  -1.547768       -1.030670        -0.102066\n",
              "4     2.066668   1.515067 -1.095988  ...   0.646092        0.970243        -0.371937\n",
              "\n",
              "[5 rows x 10 columns]"
            ]
          },
          "metadata": {},
          "execution_count": 15
        }
      ],
      "source": [
        "# Feature Scalling using Sklearn StandardScaler function\n",
        "scaler = StandardScaler()\n",
        "StandardScaler(copy=True,with_mean=True,with_std=True)\n",
        "scaler.fit(df_feat)\n",
        "scaled_features = scaler.transform(df_feat)\n",
        "df_scaled = pd.DataFrame(scaled_features,columns=df_feat.columns)\n",
        "df_scaled.head()"
      ]
    },
    {
      "cell_type": "markdown",
      "metadata": {
        "id": "qKKqImCGVMTZ"
      },
      "source": [
        "**Feature Importance Analysis**"
      ]
    },
    {
      "cell_type": "markdown",
      "metadata": {
        "id": "DD6AIS3LVWk3"
      },
      "source": [
        "I am going to perform the feature importance analysis using the XGBClassifier and grab the important features for the next steps."
      ]
    },
    {
      "cell_type": "code",
      "execution_count": null,
      "metadata": {
        "colab": {
          "base_uri": "https://localhost:8080/",
          "height": 441
        },
        "id": "Kn5EQbWBVv9f",
        "outputId": "c5d72f7e-bae2-4528-f8df-5ea6cef1e7f9"
      },
      "outputs": [
        {
          "output_type": "stream",
          "name": "stdout",
          "text": [
            "Feature: 0, Score: 0.02343\n",
            "Feature: 1, Score: 0.08445\n",
            "Feature: 2, Score: 0.08224\n",
            "Feature: 3, Score: 0.23433\n",
            "Feature: 4, Score: 0.02241\n",
            "Feature: 5, Score: 0.05912\n",
            "Feature: 6, Score: 0.21201\n",
            "Feature: 7, Score: 0.01854\n",
            "Feature: 8, Score: 0.24074\n",
            "Feature: 9, Score: 0.02272\n"
          ]
        },
        {
          "output_type": "display_data",
          "data": {
            "image/png": "[encoded data removed]",
            "text/plain": [
              "<Figure size 432x288 with 1 Axes>"
            ]
          },
          "metadata": {
            "needs_background": "light"
          }
        }
      ],
      "source": [
        "##Feature Selection using XGBClassifier\n",
        "model = XGBClassifier()\n",
        "# fit the model\n",
        "model.fit(df_scaled,df_head)\n",
        "# get importance\n",
        "importance = model.feature_importances_\n",
        "# summarize feature importance\n",
        "for i,v in enumerate(importance):\n",
        "\tprint('Feature: %0d, Score: %.5f' % (i,v))\n",
        "# plot feature importance\n",
        "pyplot.bar([x for x in range(len(importance))], importance)\n",
        "pyplot.show()"
      ]
    },
    {
      "cell_type": "markdown",
      "metadata": {
        "id": "R-FOf4zXXsDY"
      },
      "source": [
        "All the features above the score 0.05 will be taken from the dataset."
      ]
    },
    {
      "cell_type": "code",
      "execution_count": null,
      "metadata": {
        "colab": {
          "base_uri": "https://localhost:8080/",
          "height": 206
        },
        "id": "B7jEGq83XupO",
        "outputId": "92a7e09a-6bba-4efc-b6f6-028093d2d902"
      },
      "outputs": [
        {
          "output_type": "execute_result",
          "data": {
            "text/html": [
              "\n",
              "  <div id=\"df-afabd468-5889-4242-88ea-a37afc4d46ab\">\n",
              "    <div class=\"colab-df-container\">\n",
              "      <div>\n",
              "<style scoped>\n",
              "    .dataframe tbody tr th:only-of-type {\n",
              "        vertical-align: middle;\n",
              "    }\n",
              "\n",
              "    .dataframe tbody tr th {\n",
              "        vertical-align: top;\n",
              "    }\n",
              "\n",
              "    .dataframe thead th {\n",
              "        text-align: right;\n",
              "    }\n",
              "</style>\n",
              "<table border=\"1\" class=\"dataframe\">\n",
              "  <thead>\n",
              "    <tr style=\"text-align: right;\">\n",
              "      <th></th>\n",
              "      <th>Geography</th>\n",
              "      <th>Gender</th>\n",
              "      <th>Age</th>\n",
              "      <th>Balance</th>\n",
              "      <th>NumOfProducts</th>\n",
              "      <th>IsActiveMember</th>\n",
              "    </tr>\n",
              "  </thead>\n",
              "  <tbody>\n",
              "    <tr>\n",
              "      <th>0</th>\n",
              "      <td>-0.901886</td>\n",
              "      <td>-1.095988</td>\n",
              "      <td>0.293793</td>\n",
              "      <td>-0.958432</td>\n",
              "      <td>-0.911583</td>\n",
              "      <td>0.970243</td>\n",
              "    </tr>\n",
              "    <tr>\n",
              "      <th>1</th>\n",
              "      <td>1.515067</td>\n",
              "      <td>-1.095988</td>\n",
              "      <td>0.198387</td>\n",
              "      <td>-0.608805</td>\n",
              "      <td>-0.911583</td>\n",
              "      <td>0.970243</td>\n",
              "    </tr>\n",
              "    <tr>\n",
              "      <th>2</th>\n",
              "      <td>-0.901886</td>\n",
              "      <td>-1.095988</td>\n",
              "      <td>0.293793</td>\n",
              "      <td>1.767524</td>\n",
              "      <td>2.527057</td>\n",
              "      <td>-1.030670</td>\n",
              "    </tr>\n",
              "    <tr>\n",
              "      <th>3</th>\n",
              "      <td>-0.901886</td>\n",
              "      <td>-1.095988</td>\n",
              "      <td>0.007575</td>\n",
              "      <td>-0.958432</td>\n",
              "      <td>0.807737</td>\n",
              "      <td>-1.030670</td>\n",
              "    </tr>\n",
              "    <tr>\n",
              "      <th>4</th>\n",
              "      <td>1.515067</td>\n",
              "      <td>-1.095988</td>\n",
              "      <td>0.389199</td>\n",
              "      <td>0.780759</td>\n",
              "      <td>-0.911583</td>\n",
              "      <td>0.970243</td>\n",
              "    </tr>\n",
              "  </tbody>\n",
              "</table>\n",
              "</div>\n",
              "      <button class=\"colab-df-convert\" onclick=\"convertToInteractive('df-afabd468-5889-4242-88ea-a37afc4d46ab')\"\n",
              "              title=\"Convert this dataframe to an interactive table.\"\n",
              "              style=\"display:none;\">\n",
              "        \n",
              "  <svg xmlns=\"http://www.w3.org/2000/svg\" height=\"24px\"viewBox=\"0 0 24 24\"\n",
              "       width=\"24px\">\n",
              "    <path d=\"M0 0h24v24H0V0z\" fill=\"none\"/>\n",
              "    <path d=\"M18.56 5.44l.94 2.06.94-2.06 2.06-.94-2.06-.94-.94-2.06-.94 2.06-2.06.94zm-11 1L8.5 8.5l.94-2.06 2.06-.94-2.06-.94L8.5 2.5l-.94 2.06-2.06.94zm10 10l.94 2.06.94-2.06 2.06-.94-2.06-.94-.94-2.06-.94 2.06-2.06.94z\"/><path d=\"M17.41 7.96l-1.37-1.37c-.4-.4-.92-.59-1.43-.59-.52 0-1.04.2-1.43.59L10.3 9.45l-7.72 7.72c-.78.78-.78 2.05 0 2.83L4 21.41c.39.39.9.59 1.41.59.51 0 1.02-.2 1.41-.59l7.78-7.78 2.81-2.81c.8-.78.8-2.07 0-2.86zM5.41 20L4 18.59l7.72-7.72 1.47 1.35L5.41 20z\"/>\n",
              "  </svg>\n",
              "      </button>\n",
              "      \n",
              "  <style>\n",
              "    .colab-df-container {\n",
              "      display:flex;\n",
              "      flex-wrap:wrap;\n",
              "      gap: 12px;\n",
              "    }\n",
              "\n",
              "    .colab-df-convert {\n",
              "      background-color: #E8F0FE;\n",
              "      border: none;\n",
              "      border-radius: 50%;\n",
              "      cursor: pointer;\n",
              "      display: none;\n",
              "      fill: #1967D2;\n",
              "      height: 32px;\n",
              "      padding: 0 0 0 0;\n",
              "      width: 32px;\n",
              "    }\n",
              "\n",
              "    .colab-df-convert:hover {\n",
              "      background-color: #E2EBFA;\n",
              "      box-shadow: 0px 1px 2px rgba(60, 64, 67, 0.3), 0px 1px 3px 1px rgba(60, 64, 67, 0.15);\n",
              "      fill: #174EA6;\n",
              "    }\n",
              "\n",
              "    [theme=dark] .colab-df-convert {\n",
              "      background-color: #3B4455;\n",
              "      fill: #D2E3FC;\n",
              "    }\n",
              "\n",
              "    [theme=dark] .colab-df-convert:hover {\n",
              "      background-color: #434B5C;\n",
              "      box-shadow: 0px 1px 3px 1px rgba(0, 0, 0, 0.15);\n",
              "      filter: drop-shadow(0px 1px 2px rgba(0, 0, 0, 0.3));\n",
              "      fill: #FFFFFF;\n",
              "    }\n",
              "  </style>\n",
              "\n",
              "      <script>\n",
              "        const buttonEl =\n",
              "          document.querySelector('#df-afabd468-5889-4242-88ea-a37afc4d46ab button.colab-df-convert');\n",
              "        buttonEl.style.display =\n",
              "          google.colab.kernel.accessAllowed ? 'block' : 'none';\n",
              "\n",
              "        async function convertToInteractive(key) {\n",
              "          const element = document.querySelector('#df-afabd468-5889-4242-88ea-a37afc4d46ab');\n",
              "          const dataTable =\n",
              "            await google.colab.kernel.invokeFunction('convertToInteractive',\n",
              "                                                     [key], {});\n",
              "          if (!dataTable) return;\n",
              "\n",
              "          const docLinkHtml = 'Like what you see? Visit the ' +\n",
              "            '<a target=\"_blank\" href=https://colab.research.google.com/notebooks/data_table.ipynb>data table notebook</a>'\n",
              "            + ' to learn more about interactive tables.';\n",
              "          element.innerHTML = '';\n",
              "          dataTable['output_type'] = 'display_data';\n",
              "          await google.colab.output.renderOutput(dataTable, element);\n",
              "          const docLink = document.createElement('div');\n",
              "          docLink.innerHTML = docLinkHtml;\n",
              "          element.appendChild(docLink);\n",
              "        }\n",
              "      </script>\n",
              "    </div>\n",
              "  </div>\n",
              "  "
            ],
            "text/plain": [
              "   Geography    Gender       Age   Balance  NumOfProducts  IsActiveMember\n",
              "0  -0.901886 -1.095988  0.293793 -0.958432      -0.911583        0.970243\n",
              "1   1.515067 -1.095988  0.198387 -0.608805      -0.911583        0.970243\n",
              "2  -0.901886 -1.095988  0.293793  1.767524       2.527057       -1.030670\n",
              "3  -0.901886 -1.095988  0.007575 -0.958432       0.807737       -1.030670\n",
              "4   1.515067 -1.095988  0.389199  0.780759      -0.911583        0.970243"
            ]
          },
          "metadata": {},
          "execution_count": 17
        }
      ],
      "source": [
        "## Feeding only selected features\n",
        "\n",
        "df_filtered = df_scaled.loc[:, [\"Geography\",\"Gender\",\"Age\",\"Balance\",\"NumOfProducts\",\"IsActiveMember\"]]\n",
        "df_filtered.head()"
      ]
    },
    {
      "cell_type": "markdown",
      "metadata": {
        "id": "4aL5Hc_DYsfv"
      },
      "source": [
        "Split Dataset into Training and Test sets (80% & 20%)\n"
      ]
    },
    {
      "cell_type": "code",
      "execution_count": null,
      "metadata": {
        "id": "6_sBUqFtYrdk"
      },
      "outputs": [],
      "source": [
        "X_train, X_test, y_train, y_test = train_test_split(df_filtered, df_head, test_size=0.20, random_state=1)"
      ]
    },
    {
      "cell_type": "markdown",
      "metadata": {
        "id": "KEpGbABXZBz6"
      },
      "source": [
        "**Now let's handle the imbalance data problem**"
      ]
    },
    {
      "cell_type": "markdown",
      "metadata": {
        "id": "pLg6n6QBQK7O"
      },
      "source": [
        "### Installing imblearn library here "
      ]
    },
    {
      "cell_type": "code",
      "execution_count": null,
      "metadata": {
        "colab": {
          "base_uri": "https://localhost:8080/"
        },
        "id": "m2t1aXD4P4K3",
        "outputId": "2e2a3d7f-4817-4713-ca85-9cf6d94f7481"
      },
      "outputs": [
        {
          "output_type": "stream",
          "name": "stdout",
          "text": [
            "Requirement already satisfied: imblearn in /usr/local/lib/python3.7/dist-packages (0.0)\n",
            "Requirement already satisfied: imbalanced-learn in /usr/local/lib/python3.7/dist-packages (from imblearn) (0.8.1)\n",
            "Requirement already satisfied: scipy>=0.19.1 in /usr/local/lib/python3.7/dist-packages (from imbalanced-learn->imblearn) (1.4.1)\n",
            "Requirement already satisfied: scikit-learn>=0.24 in /usr/local/lib/python3.7/dist-packages (from imbalanced-learn->imblearn) (1.0.2)\n",
            "Requirement already satisfied: joblib>=0.11 in /usr/local/lib/python3.7/dist-packages (from imbalanced-learn->imblearn) (1.1.0)\n",
            "Requirement already satisfied: numpy>=1.13.3 in /usr/local/lib/python3.7/dist-packages (from imbalanced-learn->imblearn) (1.19.5)\n",
            "Requirement already satisfied: threadpoolctl>=2.0.0 in /usr/local/lib/python3.7/dist-packages (from scikit-learn>=0.24->imbalanced-learn->imblearn) (3.0.0)\n"
          ]
        }
      ],
      "source": [
        "pip install imblearn"
      ]
    },
    {
      "cell_type": "code",
      "execution_count": null,
      "metadata": {
        "id": "4tFn8c8EQOz3"
      },
      "outputs": [],
      "source": [
        "from imblearn.over_sampling import SMOTE\n",
        "smote = SMOTE()"
      ]
    },
    {
      "cell_type": "code",
      "execution_count": null,
      "metadata": {
        "id": "9gv8wlfLZXsW"
      },
      "outputs": [],
      "source": [
        "X_train_smote, Y_train_smote = smote.fit_resample(X_train,y_train)\n",
        "#X_train_smote, Y_train_smote = smote.fit_resample(X_test,y_test)"
      ]
    },
    {
      "cell_type": "markdown",
      "metadata": {
        "id": "vp7wl4JJaQDW"
      },
      "source": [
        "Let's check what kind of impact happened to the data"
      ]
    },
    {
      "cell_type": "code",
      "execution_count": null,
      "metadata": {
        "colab": {
          "base_uri": "https://localhost:8080/"
        },
        "id": "W0BXafdNaOQY",
        "outputId": "4b892892-6764-4e2d-daa6-d2d5ed4275f7"
      },
      "outputs": [
        {
          "output_type": "stream",
          "name": "stdout",
          "text": [
            "Before SMOTE: Counter({0: 6378, 1: 1622})\n",
            "After SMOTE: Counter({0: 6378, 1: 6378})\n"
          ]
        }
      ],
      "source": [
        "from collections import Counter\n",
        "print(\"Before SMOTE:\", Counter(y_train))\n",
        "print(\"After SMOTE:\", Counter(Y_train_smote))"
      ]
    },
    {
      "cell_type": "markdown",
      "metadata": {
        "id": "9aPC9MQRa6QQ"
      },
      "source": [
        "As far now I have solved the imbalanced data problem with SMOTE."
      ]
    },
    {
      "cell_type": "markdown",
      "metadata": {
        "id": "DBC0IinNAhZ0"
      },
      "source": [
        "# Using XGBClassifier as the first model here"
      ]
    },
    {
      "cell_type": "code",
      "execution_count": null,
      "metadata": {
        "id": "Bejug1kbLnB9"
      },
      "outputs": [],
      "source": [
        "#Hyperparameter Optimization\n",
        "\n",
        "params={\n",
        " \"learning_rate\"    : [0.05, 0.10, 0.15, 0.20, 0.25, 0.30 ] ,\n",
        " \"max_depth\"        : [ 3, 4, 5, 6, 8, 10, 12, 15],\n",
        " \"min_child_weight\" : [ 1, 3, 5, 7 ],\n",
        " \"gamma\"            : [ 0.0, 0.1, 0.2 , 0.3, 0.4 ],\n",
        " \"colsample_bytree\" : [ 0.3, 0.4, 0.5 , 0.7 ]\n",
        "    \n",
        "}"
      ]
    },
    {
      "cell_type": "code",
      "execution_count": null,
      "metadata": {
        "id": "YjbLlWl_MTGV"
      },
      "outputs": [],
      "source": [
        "## Hyperparameter optimization using RandomizedSearchCV\n",
        "from sklearn.model_selection import RandomizedSearchCV, GridSearchCV\n",
        "import xgboost"
      ]
    },
    {
      "cell_type": "code",
      "execution_count": null,
      "metadata": {
        "id": "NelZJkYq4LZK"
      },
      "outputs": [],
      "source": [
        "# Declairing the default classifier\n",
        "classifier=xgboost.XGBClassifier()"
      ]
    },
    {
      "cell_type": "code",
      "execution_count": null,
      "metadata": {
        "id": "Pamu3ULvC22K"
      },
      "outputs": [],
      "source": [
        "random_search = RandomizedSearchCV(classifier,param_distributions=params,n_iter=5,scoring='roc_auc',n_jobs=-1,cv=5,verbose=3)"
      ]
    },
    {
      "cell_type": "code",
      "execution_count": null,
      "metadata": {
        "colab": {
          "base_uri": "https://localhost:8080/"
        },
        "id": "71zFN24hSf-_",
        "outputId": "05fa5ce6-42b1-4a5b-eeb5-c9b52eeb0633"
      },
      "outputs": [
        {
          "output_type": "stream",
          "name": "stdout",
          "text": [
            "Fitting 5 folds for each of 5 candidates, totalling 25 fits\n"
          ]
        },
        {
          "output_type": "execute_result",
          "data": {
            "text/plain": [
              "RandomizedSearchCV(cv=5, estimator=XGBClassifier(), n_iter=5, n_jobs=-1,\n",
              "                   param_distributions={'colsample_bytree': [0.3, 0.4, 0.5,\n",
              "                                                             0.7],\n",
              "                                        'gamma': [0.0, 0.1, 0.2, 0.3, 0.4],\n",
              "                                        'learning_rate': [0.05, 0.1, 0.15, 0.2,\n",
              "                                                          0.25, 0.3],\n",
              "                                        'max_depth': [3, 4, 5, 6, 8, 10, 12,\n",
              "                                                      15],\n",
              "                                        'min_child_weight': [1, 3, 5, 7]},\n",
              "                   scoring='roc_auc', verbose=3)"
            ]
          },
          "metadata": {},
          "execution_count": 27
        }
      ],
      "source": [
        "random_search.fit(X_train_smote,Y_train_smote)"
      ]
    },
    {
      "cell_type": "code",
      "execution_count": null,
      "metadata": {
        "id": "27hujOr6TyDg",
        "colab": {
          "base_uri": "https://localhost:8080/"
        },
        "outputId": "1ae6a356-0d3c-49d9-bb5f-a7eb067217bb"
      },
      "outputs": [
        {
          "output_type": "execute_result",
          "data": {
            "text/plain": [
              "XGBClassifier(colsample_bytree=0.5, gamma=0.1, learning_rate=0.15, max_depth=15,\n",
              "              min_child_weight=3)"
            ]
          },
          "metadata": {},
          "execution_count": 28
        }
      ],
      "source": [
        "random_search.best_estimator_"
      ]
    },
    {
      "cell_type": "code",
      "execution_count": null,
      "metadata": {
        "id": "D6G0Db2EC25N",
        "colab": {
          "base_uri": "https://localhost:8080/"
        },
        "outputId": "205d46a2-d7ab-400d-92ef-ca57ea9d860b"
      },
      "outputs": [
        {
          "output_type": "execute_result",
          "data": {
            "text/plain": [
              "{'colsample_bytree': 0.5,\n",
              " 'gamma': 0.1,\n",
              " 'learning_rate': 0.15,\n",
              " 'max_depth': 15,\n",
              " 'min_child_weight': 3}"
            ]
          },
          "metadata": {},
          "execution_count": 29
        }
      ],
      "source": [
        "random_search.best_params_"
      ]
    },
    {
      "cell_type": "code",
      "execution_count": null,
      "metadata": {
        "id": "18jS77NeC3Hx"
      },
      "outputs": [],
      "source": [
        "classifier=xgboost.XGBClassifier(n_iter=5, n_jobs=-1,\n",
        "                   param_distributions={'colsample_bytree': [0.3, 0.4, 0.5,\n",
        "                                                             0.7],\n",
        "                                        'gamma': [0.0, 0.1, 0.2, 0.3, 0.4],\n",
        "                                        'learning_rate': [0.05, 0.1, 0.15, 0.2,\n",
        "                                                          0.25, 0.3],\n",
        "                                        'max_depth': [3, 4, 5, 6, 8, 10, 12,\n",
        "                                                      15],\n",
        "                                        'min_child_weight': [1, 3, 5, 7]},\n",
        "                   scoring='roc_auc', verbose=3)"
      ]
    },
    {
      "cell_type": "code",
      "source": [
        "classifier.fit(X_train_smote,Y_train_smote)"
      ],
      "metadata": {
        "colab": {
          "base_uri": "https://localhost:8080/"
        },
        "id": "iK3du-ShQld2",
        "outputId": "05b5307b-4c8a-4457-ab18-f826a371c774"
      },
      "execution_count": null,
      "outputs": [
        {
          "output_type": "execute_result",
          "data": {
            "text/plain": [
              "XGBClassifier(n_iter=5, n_jobs=-1,\n",
              "              param_distributions={'colsample_bytree': [0.3, 0.4, 0.5, 0.7],\n",
              "                                   'gamma': [0.0, 0.1, 0.2, 0.3, 0.4],\n",
              "                                   'learning_rate': [0.05, 0.1, 0.15, 0.2, 0.25,\n",
              "                                                     0.3],\n",
              "                                   'max_depth': [3, 4, 5, 6, 8, 10, 12, 15],\n",
              "                                   'min_child_weight': [1, 3, 5, 7]},\n",
              "              scoring='roc_auc', verbose=3)"
            ]
          },
          "metadata": {},
          "execution_count": 31
        }
      ]
    },
    {
      "cell_type": "code",
      "execution_count": null,
      "metadata": {
        "id": "qRNs4Q7wEh0G"
      },
      "outputs": [],
      "source": [
        "x_train_smote_pred = classifier.predict(X_train_smote)"
      ]
    },
    {
      "cell_type": "code",
      "source": [
        "x_test_pred = classifier.predict(X_test)"
      ],
      "metadata": {
        "id": "_vPxP1fcQjye"
      },
      "execution_count": null,
      "outputs": []
    },
    {
      "cell_type": "code",
      "execution_count": null,
      "metadata": {
        "id": "x0fNw3ArEh_q"
      },
      "outputs": [],
      "source": [
        "from sklearn.metrics import accuracy_score"
      ]
    },
    {
      "cell_type": "code",
      "execution_count": null,
      "metadata": {
        "id": "88bFdGOB7ahD"
      },
      "outputs": [],
      "source": [
        "#Test Accuracy\n",
        "test_acc = accuracy_score(y_test,x_test_pred)\n",
        "\n"
      ]
    },
    {
      "cell_type": "code",
      "execution_count": null,
      "metadata": {
        "id": "0eyY-CVp756m",
        "colab": {
          "base_uri": "https://localhost:8080/"
        },
        "outputId": "13c222c0-7204-4928-82d1-6c3154d57263"
      },
      "outputs": [
        {
          "output_type": "execute_result",
          "data": {
            "text/plain": [
              "0.8125"
            ]
          },
          "metadata": {},
          "execution_count": 51
        }
      ],
      "source": [
        "test_acc"
      ]
    },
    {
      "cell_type": "code",
      "execution_count": null,
      "metadata": {
        "id": "y9nJAaJm7592",
        "colab": {
          "base_uri": "https://localhost:8080/"
        },
        "outputId": "756ccc04-c710-429c-bac0-3bf44abfd8d7"
      },
      "outputs": [
        {
          "output_type": "stream",
          "name": "stdout",
          "text": [
            "0.8203982439636249\n"
          ]
        }
      ],
      "source": [
        "#Train Accuracy\n",
        "train_acc = accuracy_score(Y_train_smote,x_train_smote_pred)\n",
        "print(train_acc)"
      ]
    },
    {
      "cell_type": "code",
      "execution_count": null,
      "metadata": {
        "id": "JDznSn9_76ES"
      },
      "outputs": [],
      "source": [
        ""
      ]
    },
    {
      "cell_type": "markdown",
      "metadata": {
        "id": "6P3AXH9spElD"
      },
      "source": [
        "# Now neural network implementation:"
      ]
    },
    {
      "cell_type": "code",
      "execution_count": null,
      "metadata": {
        "id": "mLix2PCLtjdO"
      },
      "outputs": [],
      "source": [
        "import tensorflow as tf\n",
        "tf.random.set_seed(42)"
      ]
    },
    {
      "cell_type": "code",
      "execution_count": null,
      "metadata": {
        "id": "-4m6BcOetjtW"
      },
      "outputs": [],
      "source": [
        "# Defining few parameters \n",
        "num_layers = 3\n",
        "min_nodes_per_layer, max_nodes_per_layer = 64, 256\n",
        "node_step_size = 64"
      ]
    },
    {
      "cell_type": "code",
      "execution_count": null,
      "metadata": {
        "colab": {
          "base_uri": "https://localhost:8080/"
        },
        "id": "FZgx1N6UtjwA",
        "outputId": "b90fda70-c757-4dce-aa1e-fb23f2e1f131"
      },
      "outputs": [
        {
          "output_type": "execute_result",
          "data": {
            "text/plain": [
              "[(64, 64, 64),\n",
              " (64, 64, 128),\n",
              " (64, 64, 192),\n",
              " (64, 64, 256),\n",
              " (64, 128, 64),\n",
              " (64, 128, 128),\n",
              " (64, 128, 192),\n",
              " (64, 128, 256),\n",
              " (64, 192, 64),\n",
              " (64, 192, 128),\n",
              " (64, 192, 192),\n",
              " (64, 192, 256),\n",
              " (64, 256, 64),\n",
              " (64, 256, 128),\n",
              " (64, 256, 192),\n",
              " (64, 256, 256),\n",
              " (128, 64, 64),\n",
              " (128, 64, 128),\n",
              " (128, 64, 192),\n",
              " (128, 64, 256),\n",
              " (128, 128, 64),\n",
              " (128, 128, 128),\n",
              " (128, 128, 192),\n",
              " (128, 128, 256),\n",
              " (128, 192, 64),\n",
              " (128, 192, 128),\n",
              " (128, 192, 192),\n",
              " (128, 192, 256),\n",
              " (128, 256, 64),\n",
              " (128, 256, 128),\n",
              " (128, 256, 192),\n",
              " (128, 256, 256),\n",
              " (192, 64, 64),\n",
              " (192, 64, 128),\n",
              " (192, 64, 192),\n",
              " (192, 64, 256),\n",
              " (192, 128, 64),\n",
              " (192, 128, 128),\n",
              " (192, 128, 192),\n",
              " (192, 128, 256),\n",
              " (192, 192, 64),\n",
              " (192, 192, 128),\n",
              " (192, 192, 192),\n",
              " (192, 192, 256),\n",
              " (192, 256, 64),\n",
              " (192, 256, 128),\n",
              " (192, 256, 192),\n",
              " (192, 256, 256),\n",
              " (256, 64, 64),\n",
              " (256, 64, 128),\n",
              " (256, 64, 192),\n",
              " (256, 64, 256),\n",
              " (256, 128, 64),\n",
              " (256, 128, 128),\n",
              " (256, 128, 192),\n",
              " (256, 128, 256),\n",
              " (256, 192, 64),\n",
              " (256, 192, 128),\n",
              " (256, 192, 192),\n",
              " (256, 192, 256),\n",
              " (256, 256, 64),\n",
              " (256, 256, 128),\n",
              " (256, 256, 192),\n",
              " (256, 256, 256)]"
            ]
          },
          "metadata": {},
          "execution_count": 39
        }
      ],
      "source": [
        "import itertools\n",
        "node_options = list(range(\n",
        "    min_nodes_per_layer, \n",
        "    max_nodes_per_layer + 1, \n",
        "    node_step_size\n",
        "))\n",
        "node_options\n",
        "\n",
        "two_layer_possibilities = [node_options, node_options]\n",
        "two_layer_possibilities\n",
        "list(itertools.product(*two_layer_possibilities))\n",
        "\n",
        "\n",
        "layer_possibilities = [node_options] * num_layers\n",
        "layer_possibilities\n",
        "\n",
        "\n",
        "\n",
        "layer_node_permutations = list(itertools.product(*layer_possibilities))\n",
        "layer_node_permutations\n",
        "\n",
        "\n"
      ]
    },
    {
      "cell_type": "code",
      "execution_count": null,
      "metadata": {
        "colab": {
          "base_uri": "https://localhost:8080/"
        },
        "id": "cO3dgUw1xvKH",
        "outputId": "807b5e95-45ea-4c50-b333-7fdf37ca0fa4"
      },
      "outputs": [
        {
          "output_type": "stream",
          "name": "stdout",
          "text": [
            "64\n",
            "64\n",
            "64\n",
            "\n",
            "64\n",
            "64\n",
            "128\n",
            "\n"
          ]
        }
      ],
      "source": [
        "for permutation in layer_node_permutations[:2]:\n",
        "    for nodes_at_layer in permutation:\n",
        "        print(nodes_at_layer)\n",
        "    print()\n",
        "\n"
      ]
    },
    {
      "cell_type": "code",
      "execution_count": null,
      "metadata": {
        "id": "PBdgT5Ltxvf2"
      },
      "outputs": [],
      "source": [
        "models = []\n",
        "\n",
        "for permutation in layer_node_permutations:\n",
        "    model = tf.keras.Sequential()\n",
        "    model.add(tf.keras.layers.InputLayer(input_shape=(6,)))\n",
        "    model_name = ''\n",
        "    \n",
        "    for nodes_at_layer in permutation:\n",
        "        model.add(tf.keras.layers.Dense(nodes_at_layer, activation='relu'))\n",
        "        model_name += f'dense{nodes_at_layer}_'\n",
        "        \n",
        "    model.add(tf.keras.layers.Dense(1, activation='sigmoid'))\n",
        "    model._name = model_name[:-1]\n",
        "    \n",
        "    models.append(model)\n",
        "\n"
      ]
    },
    {
      "cell_type": "code",
      "execution_count": null,
      "metadata": {
        "colab": {
          "base_uri": "https://localhost:8080/"
        },
        "id": "Yttj2Z3rxv6Q",
        "outputId": "e7f6365b-5230-4d35-f03d-4d67b2cb77ca"
      },
      "outputs": [
        {
          "output_type": "stream",
          "name": "stdout",
          "text": [
            "Model: \"dense64_dense64_dense64\"\n",
            "_________________________________________________________________\n",
            " Layer (type)                Output Shape              Param #   \n",
            "=================================================================\n",
            " dense (Dense)               (None, 64)                448       \n",
            "                                                                 \n",
            " dense_1 (Dense)             (None, 64)                4160      \n",
            "                                                                 \n",
            " dense_2 (Dense)             (None, 64)                4160      \n",
            "                                                                 \n",
            " dense_3 (Dense)             (None, 1)                 65        \n",
            "                                                                 \n",
            "=================================================================\n",
            "Total params: 8,833\n",
            "Trainable params: 8,833\n",
            "Non-trainable params: 0\n",
            "_________________________________________________________________\n"
          ]
        }
      ],
      "source": [
        "models[0].summary()"
      ]
    },
    {
      "cell_type": "code",
      "execution_count": null,
      "metadata": {
        "id": "Y4P0-VQI6q0I"
      },
      "outputs": [],
      "source": [
        "def get_models(num_layers: int,\n",
        "               min_nodes_per_layer: int,\n",
        "               max_nodes_per_layer: int,\n",
        "               node_step_size: int,\n",
        "               input_shape: tuple,\n",
        "               hidden_layer_activation: str = 'relu',\n",
        "               num_nodes_at_output: int = 1,\n",
        "               output_layer_activation: str = 'sigmoid') -> list:\n",
        "    \n",
        "    node_options = list(range(min_nodes_per_layer, max_nodes_per_layer + 1, node_step_size))\n",
        "    layer_possibilities = [node_options] * num_layers\n",
        "    layer_node_permutations = list(itertools.product(*layer_possibilities))\n",
        "    \n",
        "    models = []\n",
        "    for permutation in layer_node_permutations:\n",
        "        model = tf.keras.Sequential()\n",
        "        model.add(tf.keras.layers.InputLayer(input_shape=input_shape))\n",
        "        model_name = ''\n",
        "\n",
        "        for nodes_at_layer in permutation:\n",
        "            model.add(tf.keras.layers.Dense(nodes_at_layer, activation=hidden_layer_activation))\n",
        "            model_name += f'dense{nodes_at_layer}_'\n",
        "\n",
        "        model.add(tf.keras.layers.Dense(num_nodes_at_output, activation=output_layer_activation))\n",
        "        model._name = model_name[:-1]\n",
        "        models.append(model)\n",
        "        \n",
        "    return models\n",
        "\n"
      ]
    },
    {
      "cell_type": "code",
      "execution_count": null,
      "metadata": {
        "id": "JjLM_3KP6q-F"
      },
      "outputs": [],
      "source": [
        "all_models = get_models(\n",
        "    num_layers=3, \n",
        "    min_nodes_per_layer=64, \n",
        "    max_nodes_per_layer=256, \n",
        "    node_step_size=64, \n",
        "    input_shape=(12,)\n",
        ")\n",
        "\n"
      ]
    },
    {
      "cell_type": "code",
      "execution_count": null,
      "metadata": {
        "colab": {
          "base_uri": "https://localhost:8080/"
        },
        "id": "DDEZhH756rB2",
        "outputId": "07da4945-fcbd-48f5-8277-855f6660f35e"
      },
      "outputs": [
        {
          "output_type": "stream",
          "name": "stdout",
          "text": [
            "#Models = 64\n",
            "\n",
            "dense64_dense64_dense64\n",
            "dense64_dense64_dense128\n",
            "dense64_dense64_dense192\n",
            "dense64_dense64_dense256\n",
            "dense64_dense128_dense64\n",
            "dense64_dense128_dense128\n",
            "dense64_dense128_dense192\n",
            "dense64_dense128_dense256\n",
            "dense64_dense192_dense64\n",
            "dense64_dense192_dense128\n",
            "dense64_dense192_dense192\n",
            "dense64_dense192_dense256\n",
            "dense64_dense256_dense64\n",
            "dense64_dense256_dense128\n",
            "dense64_dense256_dense192\n",
            "dense64_dense256_dense256\n",
            "dense128_dense64_dense64\n",
            "dense128_dense64_dense128\n",
            "dense128_dense64_dense192\n",
            "dense128_dense64_dense256\n",
            "dense128_dense128_dense64\n",
            "dense128_dense128_dense128\n",
            "dense128_dense128_dense192\n",
            "dense128_dense128_dense256\n",
            "dense128_dense192_dense64\n",
            "dense128_dense192_dense128\n",
            "dense128_dense192_dense192\n",
            "dense128_dense192_dense256\n",
            "dense128_dense256_dense64\n",
            "dense128_dense256_dense128\n",
            "dense128_dense256_dense192\n",
            "dense128_dense256_dense256\n",
            "dense192_dense64_dense64\n",
            "dense192_dense64_dense128\n",
            "dense192_dense64_dense192\n",
            "dense192_dense64_dense256\n",
            "dense192_dense128_dense64\n",
            "dense192_dense128_dense128\n",
            "dense192_dense128_dense192\n",
            "dense192_dense128_dense256\n",
            "dense192_dense192_dense64\n",
            "dense192_dense192_dense128\n",
            "dense192_dense192_dense192\n",
            "dense192_dense192_dense256\n",
            "dense192_dense256_dense64\n",
            "dense192_dense256_dense128\n",
            "dense192_dense256_dense192\n",
            "dense192_dense256_dense256\n",
            "dense256_dense64_dense64\n",
            "dense256_dense64_dense128\n",
            "dense256_dense64_dense192\n",
            "dense256_dense64_dense256\n",
            "dense256_dense128_dense64\n",
            "dense256_dense128_dense128\n",
            "dense256_dense128_dense192\n",
            "dense256_dense128_dense256\n",
            "dense256_dense192_dense64\n",
            "dense256_dense192_dense128\n",
            "dense256_dense192_dense192\n",
            "dense256_dense192_dense256\n",
            "dense256_dense256_dense64\n",
            "dense256_dense256_dense128\n",
            "dense256_dense256_dense192\n",
            "dense256_dense256_dense256\n"
          ]
        }
      ],
      "source": [
        "print(f'#Models = {len(all_models)}')\n",
        "print()\n",
        "\n",
        "for model in all_models:\n",
        "    print(model.name)\n",
        "\n"
      ]
    },
    {
      "cell_type": "code",
      "execution_count": null,
      "metadata": {
        "id": "3Tnq3TCy6rFk"
      },
      "outputs": [],
      "source": [
        "def optimize(models: list,\n",
        "             X_train: np.array,\n",
        "             y_train: np.array,\n",
        "             X_test: np.array,\n",
        "             y_test: np.array,\n",
        "             epochs: int = 50,\n",
        "             verbose: int = 0) -> pd.DataFrame:\n",
        "    \n",
        "    # We'll store the results here\n",
        "    results = []\n",
        "    \n",
        "    def train(model: tf.keras.Sequential) -> dict:\n",
        "        # Change this however you want\n",
        "        model.compile(\n",
        "            loss=tf.keras.losses.binary_crossentropy,\n",
        "            optimizer=tf.keras.optimizers.Adam(),\n",
        "            metrics=[\n",
        "                tf.keras.metrics.BinaryAccuracy(name='accuracy')\n",
        "            ]\n",
        "        )\n",
        "        \n",
        "        # Train the model\n",
        "        model.fit(\n",
        "            X_train_smote,\n",
        "            Y_train_smote,\n",
        "            epochs=epochs,\n",
        "            verbose=verbose\n",
        "        )\n",
        "        \n",
        "        # Make predictions on the test set\n",
        "        preds = model.predict(X_test)\n",
        "        prediction_classes = [1 if prob > 0.5 else 0 for prob in np.ravel(preds)]\n",
        "        \n",
        "        # Return evaluation metrics on the test set\n",
        "        return {\n",
        "            'model_name': model.name,\n",
        "            'test_accuracy': accuracy_score(y_test, prediction_classes),\n",
        "            'test_precision': precision_score(y_test, prediction_classes),\n",
        "            'test_recall': recall_score(y_test, prediction_classes),\n",
        "            'test_f1': f1_score(y_test, prediction_classes)\n",
        "        }\n",
        "    \n",
        "    # Train every model and save results\n",
        "    for model in models:\n",
        "        try:\n",
        "            print(model.name, end=' ... ')\n",
        "            res = train(model=model)\n",
        "            results.append(res)\n",
        "        except Exception as e:\n",
        "            print(f'{model.name} --> {str(e)}')\n",
        "        \n",
        "    return pd.DataFrame(results)"
      ]
    },
    {
      "cell_type": "code",
      "execution_count": null,
      "metadata": {
        "colab": {
          "base_uri": "https://localhost:8080/"
        },
        "id": "cT4F31Jv7Ptu",
        "outputId": "d2dce0fd-de97-42c6-f2ee-4e09323b1289"
      },
      "outputs": [
        {
          "output_type": "stream",
          "name": "stdout",
          "text": [
            "dense64_dense64_dense64 ... dense64_dense64_dense128 ... dense64_dense64_dense192 ... dense64_dense64_dense256 ... dense64_dense128_dense64 ... dense64_dense128_dense128 ... dense64_dense128_dense192 ... dense64_dense128_dense256 ... dense64_dense192_dense64 ... dense64_dense192_dense128 ... dense64_dense192_dense192 ... dense64_dense192_dense256 ... dense64_dense256_dense64 ... dense64_dense256_dense128 ... dense64_dense256_dense192 ... dense64_dense256_dense256 ... dense128_dense64_dense64 ... dense128_dense64_dense128 ... dense128_dense64_dense192 ... dense128_dense64_dense256 ... dense128_dense128_dense64 ... dense128_dense128_dense128 ... dense128_dense128_dense192 ... dense128_dense128_dense256 ... dense128_dense192_dense64 ... dense128_dense192_dense128 ... dense128_dense192_dense192 ... dense128_dense192_dense256 ... dense128_dense256_dense64 ... dense128_dense256_dense128 ... dense128_dense256_dense192 ... dense128_dense256_dense256 ... dense192_dense64_dense64 ... dense192_dense64_dense128 ... dense192_dense64_dense192 ... dense192_dense64_dense256 ... dense192_dense128_dense64 ... dense192_dense128_dense128 ... dense192_dense128_dense192 ... dense192_dense128_dense256 ... dense192_dense192_dense64 ... dense192_dense192_dense128 ... dense192_dense192_dense192 ... dense192_dense192_dense256 ... dense192_dense256_dense64 ... dense192_dense256_dense128 ... dense192_dense256_dense192 ... dense192_dense256_dense256 ... dense256_dense64_dense64 ... dense256_dense64_dense128 ... dense256_dense64_dense192 ... dense256_dense64_dense256 ... dense256_dense128_dense64 ... dense256_dense128_dense128 ... dense256_dense128_dense192 ... dense256_dense128_dense256 ... dense256_dense192_dense64 ... "
          ]
        }
      ],
      "source": [
        "optimization_results = optimize(\n",
        "    models=models,\n",
        "    X_train=X_train_smote,\n",
        "    y_train=Y_train_smote,\n",
        "    X_test=X_test,\n",
        "    y_test=y_test\n",
        ")"
      ]
    },
    {
      "cell_type": "code",
      "execution_count": null,
      "metadata": {
        "id": "1WbVv5Qq6rJd",
        "colab": {
          "base_uri": "https://localhost:8080/",
          "height": 424
        },
        "outputId": "31fa1a1a-f834-4112-ae7e-49ec2ba16378"
      },
      "outputs": [
        {
          "output_type": "execute_result",
          "data": {
            "text/html": [
              "\n",
              "  <div id=\"df-d033419c-bb1c-4a1b-a5ce-2e0e010a9a26\">\n",
              "    <div class=\"colab-df-container\">\n",
              "      <div>\n",
              "<style scoped>\n",
              "    .dataframe tbody tr th:only-of-type {\n",
              "        vertical-align: middle;\n",
              "    }\n",
              "\n",
              "    .dataframe tbody tr th {\n",
              "        vertical-align: top;\n",
              "    }\n",
              "\n",
              "    .dataframe thead th {\n",
              "        text-align: right;\n",
              "    }\n",
              "</style>\n",
              "<table border=\"1\" class=\"dataframe\">\n",
              "  <thead>\n",
              "    <tr style=\"text-align: right;\">\n",
              "      <th></th>\n",
              "      <th>model_name</th>\n",
              "      <th>test_accuracy</th>\n",
              "      <th>test_precision</th>\n",
              "      <th>test_recall</th>\n",
              "      <th>test_f1</th>\n",
              "    </tr>\n",
              "  </thead>\n",
              "  <tbody>\n",
              "    <tr>\n",
              "      <th>1</th>\n",
              "      <td>dense64_dense64_dense128</td>\n",
              "      <td>0.8130</td>\n",
              "      <td>0.537341</td>\n",
              "      <td>0.710843</td>\n",
              "      <td>0.612033</td>\n",
              "    </tr>\n",
              "    <tr>\n",
              "      <th>59</th>\n",
              "      <td>dense256_dense192_dense256</td>\n",
              "      <td>0.8120</td>\n",
              "      <td>0.535262</td>\n",
              "      <td>0.713253</td>\n",
              "      <td>0.611570</td>\n",
              "    </tr>\n",
              "    <tr>\n",
              "      <th>23</th>\n",
              "      <td>dense128_dense128_dense256</td>\n",
              "      <td>0.8120</td>\n",
              "      <td>0.535135</td>\n",
              "      <td>0.715663</td>\n",
              "      <td>0.612371</td>\n",
              "    </tr>\n",
              "    <tr>\n",
              "      <th>3</th>\n",
              "      <td>dense64_dense64_dense256</td>\n",
              "      <td>0.8115</td>\n",
              "      <td>0.533688</td>\n",
              "      <td>0.725301</td>\n",
              "      <td>0.614913</td>\n",
              "    </tr>\n",
              "    <tr>\n",
              "      <th>57</th>\n",
              "      <td>dense256_dense192_dense128</td>\n",
              "      <td>0.8090</td>\n",
              "      <td>0.530726</td>\n",
              "      <td>0.686747</td>\n",
              "      <td>0.598739</td>\n",
              "    </tr>\n",
              "    <tr>\n",
              "      <th>...</th>\n",
              "      <td>...</td>\n",
              "      <td>...</td>\n",
              "      <td>...</td>\n",
              "      <td>...</td>\n",
              "      <td>...</td>\n",
              "    </tr>\n",
              "    <tr>\n",
              "      <th>16</th>\n",
              "      <td>dense128_dense64_dense64</td>\n",
              "      <td>0.7950</td>\n",
              "      <td>0.504160</td>\n",
              "      <td>0.730120</td>\n",
              "      <td>0.596457</td>\n",
              "    </tr>\n",
              "    <tr>\n",
              "      <th>13</th>\n",
              "      <td>dense64_dense256_dense128</td>\n",
              "      <td>0.7945</td>\n",
              "      <td>0.503472</td>\n",
              "      <td>0.698795</td>\n",
              "      <td>0.585267</td>\n",
              "    </tr>\n",
              "    <tr>\n",
              "      <th>62</th>\n",
              "      <td>dense256_dense256_dense192</td>\n",
              "      <td>0.7940</td>\n",
              "      <td>0.502618</td>\n",
              "      <td>0.693976</td>\n",
              "      <td>0.582996</td>\n",
              "    </tr>\n",
              "    <tr>\n",
              "      <th>47</th>\n",
              "      <td>dense192_dense256_dense256</td>\n",
              "      <td>0.7925</td>\n",
              "      <td>0.500000</td>\n",
              "      <td>0.708434</td>\n",
              "      <td>0.586241</td>\n",
              "    </tr>\n",
              "    <tr>\n",
              "      <th>9</th>\n",
              "      <td>dense64_dense192_dense128</td>\n",
              "      <td>0.7920</td>\n",
              "      <td>0.499139</td>\n",
              "      <td>0.698795</td>\n",
              "      <td>0.582329</td>\n",
              "    </tr>\n",
              "  </tbody>\n",
              "</table>\n",
              "<p>64 rows × 5 columns</p>\n",
              "</div>\n",
              "      <button class=\"colab-df-convert\" onclick=\"convertToInteractive('df-d033419c-bb1c-4a1b-a5ce-2e0e010a9a26')\"\n",
              "              title=\"Convert this dataframe to an interactive table.\"\n",
              "              style=\"display:none;\">\n",
              "        \n",
              "  <svg xmlns=\"http://www.w3.org/2000/svg\" height=\"24px\"viewBox=\"0 0 24 24\"\n",
              "       width=\"24px\">\n",
              "    <path d=\"M0 0h24v24H0V0z\" fill=\"none\"/>\n",
              "    <path d=\"M18.56 5.44l.94 2.06.94-2.06 2.06-.94-2.06-.94-.94-2.06-.94 2.06-2.06.94zm-11 1L8.5 8.5l.94-2.06 2.06-.94-2.06-.94L8.5 2.5l-.94 2.06-2.06.94zm10 10l.94 2.06.94-2.06 2.06-.94-2.06-.94-.94-2.06-.94 2.06-2.06.94z\"/><path d=\"M17.41 7.96l-1.37-1.37c-.4-.4-.92-.59-1.43-.59-.52 0-1.04.2-1.43.59L10.3 9.45l-7.72 7.72c-.78.78-.78 2.05 0 2.83L4 21.41c.39.39.9.59 1.41.59.51 0 1.02-.2 1.41-.59l7.78-7.78 2.81-2.81c.8-.78.8-2.07 0-2.86zM5.41 20L4 18.59l7.72-7.72 1.47 1.35L5.41 20z\"/>\n",
              "  </svg>\n",
              "      </button>\n",
              "      \n",
              "  <style>\n",
              "    .colab-df-container {\n",
              "      display:flex;\n",
              "      flex-wrap:wrap;\n",
              "      gap: 12px;\n",
              "    }\n",
              "\n",
              "    .colab-df-convert {\n",
              "      background-color: #E8F0FE;\n",
              "      border: none;\n",
              "      border-radius: 50%;\n",
              "      cursor: pointer;\n",
              "      display: none;\n",
              "      fill: #1967D2;\n",
              "      height: 32px;\n",
              "      padding: 0 0 0 0;\n",
              "      width: 32px;\n",
              "    }\n",
              "\n",
              "    .colab-df-convert:hover {\n",
              "      background-color: #E2EBFA;\n",
              "      box-shadow: 0px 1px 2px rgba(60, 64, 67, 0.3), 0px 1px 3px 1px rgba(60, 64, 67, 0.15);\n",
              "      fill: #174EA6;\n",
              "    }\n",
              "\n",
              "    [theme=dark] .colab-df-convert {\n",
              "      background-color: #3B4455;\n",
              "      fill: #D2E3FC;\n",
              "    }\n",
              "\n",
              "    [theme=dark] .colab-df-convert:hover {\n",
              "      background-color: #434B5C;\n",
              "      box-shadow: 0px 1px 3px 1px rgba(0, 0, 0, 0.15);\n",
              "      filter: drop-shadow(0px 1px 2px rgba(0, 0, 0, 0.3));\n",
              "      fill: #FFFFFF;\n",
              "    }\n",
              "  </style>\n",
              "\n",
              "      <script>\n",
              "        const buttonEl =\n",
              "          document.querySelector('#df-d033419c-bb1c-4a1b-a5ce-2e0e010a9a26 button.colab-df-convert');\n",
              "        buttonEl.style.display =\n",
              "          google.colab.kernel.accessAllowed ? 'block' : 'none';\n",
              "\n",
              "        async function convertToInteractive(key) {\n",
              "          const element = document.querySelector('#df-d033419c-bb1c-4a1b-a5ce-2e0e010a9a26');\n",
              "          const dataTable =\n",
              "            await google.colab.kernel.invokeFunction('convertToInteractive',\n",
              "                                                     [key], {});\n",
              "          if (!dataTable) return;\n",
              "\n",
              "          const docLinkHtml = 'Like what you see? Visit the ' +\n",
              "            '<a target=\"_blank\" href=https://colab.research.google.com/notebooks/data_table.ipynb>data table notebook</a>'\n",
              "            + ' to learn more about interactive tables.';\n",
              "          element.innerHTML = '';\n",
              "          dataTable['output_type'] = 'display_data';\n",
              "          await google.colab.output.renderOutput(dataTable, element);\n",
              "          const docLink = document.createElement('div');\n",
              "          docLink.innerHTML = docLinkHtml;\n",
              "          element.appendChild(docLink);\n",
              "        }\n",
              "      </script>\n",
              "    </div>\n",
              "  </div>\n",
              "  "
            ],
            "text/plain": [
              "                    model_name  test_accuracy  ...  test_recall   test_f1\n",
              "1     dense64_dense64_dense128         0.8130  ...     0.710843  0.612033\n",
              "59  dense256_dense192_dense256         0.8120  ...     0.713253  0.611570\n",
              "23  dense128_dense128_dense256         0.8120  ...     0.715663  0.612371\n",
              "3     dense64_dense64_dense256         0.8115  ...     0.725301  0.614913\n",
              "57  dense256_dense192_dense128         0.8090  ...     0.686747  0.598739\n",
              "..                         ...            ...  ...          ...       ...\n",
              "16    dense128_dense64_dense64         0.7950  ...     0.730120  0.596457\n",
              "13   dense64_dense256_dense128         0.7945  ...     0.698795  0.585267\n",
              "62  dense256_dense256_dense192         0.7940  ...     0.693976  0.582996\n",
              "47  dense192_dense256_dense256         0.7925  ...     0.708434  0.586241\n",
              "9    dense64_dense192_dense128         0.7920  ...     0.698795  0.582329\n",
              "\n",
              "[64 rows x 5 columns]"
            ]
          },
          "metadata": {},
          "execution_count": 49
        }
      ],
      "source": [
        "optimization_results.sort_values(by='test_accuracy', ascending=False)"
      ]
    },
    {
      "cell_type": "code",
      "execution_count": null,
      "metadata": {
        "id": "QkUWHWnD9pzO"
      },
      "outputs": [],
      "source": [
        ""
      ]
    },
    {
      "cell_type": "markdown",
      "metadata": {
        "id": "PDvCnBtyBf6M"
      },
      "source": [
        "# Benchmark Model"
      ]
    },
    {
      "cell_type": "code",
      "execution_count": null,
      "metadata": {
        "id": "lsT-iMHT76jO"
      },
      "outputs": [],
      "source": [
        "# Here I i have chosen Random Forest Classifier\n",
        "from sklearn.model_selection import GridSearchCV\n",
        "from sklearn.ensemble import RandomForestClassifier"
      ]
    },
    {
      "cell_type": "code",
      "execution_count": null,
      "metadata": {
        "id": "s0GS4i3wimIP"
      },
      "outputs": [],
      "source": [
        "# Number of trees in random forest\n",
        "n_estimators = [int(x) for x in np.linspace(start = 10, stop = 80, num = 10)]\n",
        "# Number of features to consider at every split\n",
        "max_features = ['auto', 'sqrt']\n",
        "# Maximum number of levels in tree\n",
        "max_depth = [2,4]\n",
        "# Minimum number of samples required to split a node\n",
        "min_samples_split = [2, 5]\n",
        "# Minimum number of samples required at each leaf node\n",
        "min_samples_leaf = [1, 2]\n",
        "# Method of selecting samples for training each tree\n",
        "bootstrap = [True, False]"
      ]
    },
    {
      "cell_type": "code",
      "execution_count": null,
      "metadata": {
        "id": "spCuUtnhii4v",
        "colab": {
          "base_uri": "https://localhost:8080/"
        },
        "outputId": "1c2de51a-2efc-4130-f814-4653348cfd66"
      },
      "outputs": [
        {
          "output_type": "stream",
          "name": "stdout",
          "text": [
            "{'n_estimators': [10, 17, 25, 33, 41, 48, 56, 64, 72, 80], 'max_features': ['auto', 'sqrt'], 'max_depth': [2, 4], 'min_samples_split': [2, 5], 'min_samples_leaf': [1, 2], 'bootstrap': [True, False]}\n"
          ]
        }
      ],
      "source": [
        "# Create the param grid\n",
        "param_grid = {'n_estimators': n_estimators,\n",
        "               'max_features': max_features,\n",
        "               'max_depth': max_depth,\n",
        "               'min_samples_split': min_samples_split,\n",
        "               'min_samples_leaf': min_samples_leaf,\n",
        "               'bootstrap': bootstrap}\n",
        "print(param_grid)"
      ]
    },
    {
      "cell_type": "code",
      "execution_count": null,
      "metadata": {
        "id": "bcbZGfElbg68"
      },
      "outputs": [],
      "source": [
        "from sklearn.model_selection import RandomizedSearchCV\n",
        "rf_Model = RandomForestClassifier()\n",
        "rf_RandomGrid = RandomizedSearchCV(estimator = rf_Model, param_distributions = param_grid, cv = 10, verbose=2, n_jobs = 4)"
      ]
    },
    {
      "cell_type": "code",
      "execution_count": null,
      "metadata": {
        "id": "6EJmssL-bg-X",
        "colab": {
          "base_uri": "https://localhost:8080/"
        },
        "outputId": "01ac2907-ecbb-4a0e-feca-96e8e98438af"
      },
      "outputs": [
        {
          "output_type": "stream",
          "name": "stdout",
          "text": [
            "Fitting 10 folds for each of 10 candidates, totalling 100 fits\n"
          ]
        },
        {
          "output_type": "execute_result",
          "data": {
            "text/plain": [
              "RandomizedSearchCV(cv=10, estimator=RandomForestClassifier(), n_jobs=4,\n",
              "                   param_distributions={'bootstrap': [True, False],\n",
              "                                        'max_depth': [2, 4],\n",
              "                                        'max_features': ['auto', 'sqrt'],\n",
              "                                        'min_samples_leaf': [1, 2],\n",
              "                                        'min_samples_split': [2, 5],\n",
              "                                        'n_estimators': [10, 17, 25, 33, 41, 48,\n",
              "                                                         56, 64, 72, 80]},\n",
              "                   verbose=2)"
            ]
          },
          "metadata": {},
          "execution_count": 57
        }
      ],
      "source": [
        "rf_RandomGrid.fit(X_train_smote,Y_train_smote)"
      ]
    },
    {
      "cell_type": "code",
      "execution_count": null,
      "metadata": {
        "id": "gcgF5sz_bhD9",
        "colab": {
          "base_uri": "https://localhost:8080/"
        },
        "outputId": "8d5c3439-aa19-4e0c-9fc1-c5a342462954"
      },
      "outputs": [
        {
          "output_type": "execute_result",
          "data": {
            "text/plain": [
              "{'bootstrap': False,\n",
              " 'max_depth': 4,\n",
              " 'max_features': 'auto',\n",
              " 'min_samples_leaf': 1,\n",
              " 'min_samples_split': 2,\n",
              " 'n_estimators': 10}"
            ]
          },
          "metadata": {},
          "execution_count": 58
        }
      ],
      "source": [
        "rf_RandomGrid.best_params_"
      ]
    },
    {
      "cell_type": "code",
      "execution_count": null,
      "metadata": {
        "id": "zMJNJvefbhJy",
        "colab": {
          "base_uri": "https://localhost:8080/"
        },
        "outputId": "d525b253-22d0-4ea3-8f1c-25f86ddf7bb0"
      },
      "outputs": [
        {
          "output_type": "stream",
          "name": "stdout",
          "text": [
            "Train Accuracy - : 0.760\n",
            "Test Accuracy - : 0.787\n"
          ]
        }
      ],
      "source": [
        "print (f'Train Accuracy - : {rf_RandomGrid.score(X_train_smote,Y_train_smote):.3f}')\n",
        "print (f'Test Accuracy - : {rf_RandomGrid.score(X_test,y_test):.3f}')"
      ]
    },
    {
      "cell_type": "markdown",
      "metadata": {
        "id": "4SL0lEVA3kkX"
      },
      "source": [
        ""
      ]
    },
    {
      "cell_type": "markdown",
      "metadata": {
        "id": "8BV7_BJt2WjH"
      },
      "source": [
        "### Now Let's use new python library called EvalML to find which algorithm and it's parameters are better for this prediction ###"
      ]
    },
    {
      "cell_type": "code",
      "execution_count": null,
      "metadata": {
        "id": "wtXdteSm71rb",
        "colab": {
          "base_uri": "https://localhost:8080/"
        },
        "outputId": "dad24f50-61e8-4172-ae7d-9927fa023bdb"
      },
      "outputs": [
        {
          "output_type": "stream",
          "name": "stdout",
          "text": [
            "Requirement already satisfied: evalml in /usr/local/lib/python3.7/dist-packages (0.41.0)\n",
            "Requirement already satisfied: networkx<2.6,>=2.5 in /usr/local/lib/python3.7/dist-packages (from evalml) (2.5.1)\n",
            "Requirement already satisfied: nlp-primitives>=2.1.0 in /usr/local/lib/python3.7/dist-packages (from evalml) (2.1.0)\n",
            "Requirement already satisfied: requirements-parser>=0.2.0 in /usr/local/lib/python3.7/dist-packages (from evalml) (0.3.1)\n",
            "Requirement already satisfied: matplotlib>=3.3.3 in /usr/local/lib/python3.7/dist-packages (from evalml) (3.5.1)\n",
            "Requirement already satisfied: sktime>=0.7.0 in /usr/local/lib/python3.7/dist-packages (from evalml) (0.8.0)\n",
            "Requirement already satisfied: kaleido>=0.1.0 in /usr/local/lib/python3.7/dist-packages (from evalml) (0.2.1)\n",
            "Requirement already satisfied: click>=7.1.2 in /usr/local/lib/python3.7/dist-packages (from evalml) (7.1.2)\n",
            "Requirement already satisfied: woodwork>=0.11.0 in /usr/local/lib/python3.7/dist-packages (from evalml) (0.11.1)\n",
            "Requirement already satisfied: category-encoders>=2.2.2 in /usr/local/lib/python3.7/dist-packages (from evalml) (2.3.0)\n",
            "Requirement already satisfied: graphviz>=0.13 in /usr/local/lib/python3.7/dist-packages (from evalml) (0.19.1)\n",
            "Requirement already satisfied: seaborn>=0.11.1 in /usr/local/lib/python3.7/dist-packages (from evalml) (0.11.2)\n",
            "Requirement already satisfied: ipywidgets>=7.5 in /usr/local/lib/python3.7/dist-packages (from evalml) (7.6.5)\n",
            "Requirement already satisfied: scipy>=1.5.0 in /usr/local/lib/python3.7/dist-packages (from evalml) (1.7.3)\n",
            "Requirement already satisfied: cloudpickle>=1.5.0 in /usr/local/lib/python3.7/dist-packages (from evalml) (2.0.0)\n",
            "Requirement already satisfied: pmdarima==1.8.0 in /usr/local/lib/python3.7/dist-packages (from evalml) (1.8.0)\n",
            "Requirement already satisfied: catboost>=0.20 in /usr/local/lib/python3.7/dist-packages (from evalml) (1.0.3)\n",
            "Requirement already satisfied: shap>=0.36.0 in /usr/local/lib/python3.7/dist-packages (from evalml) (0.40.0)\n",
            "Requirement already satisfied: pandas>=1.3.0 in /usr/local/lib/python3.7/dist-packages (from evalml) (1.3.5)\n",
            "Requirement already satisfied: scikit-learn>=0.24.0 in /usr/local/lib/python3.7/dist-packages (from evalml) (1.0.2)\n",
            "Requirement already satisfied: numba==0.53 in /usr/local/lib/python3.7/dist-packages (from evalml) (0.53.0)\n",
            "Requirement already satisfied: vowpalwabbit>=8.11.0 in /usr/local/lib/python3.7/dist-packages (from evalml) (8.11.0)\n",
            "Requirement already satisfied: xgboost>=1.4.2 in /usr/local/lib/python3.7/dist-packages (from evalml) (1.5.1)\n",
            "Requirement already satisfied: texttable>=1.6.2 in /usr/local/lib/python3.7/dist-packages (from evalml) (1.6.4)\n",
            "Requirement already satisfied: scikit-optimize>=0.8.1 in /usr/local/lib/python3.7/dist-packages (from evalml) (0.9.0)\n",
            "Requirement already satisfied: plotly>=5.0.0 in /usr/local/lib/python3.7/dist-packages (from evalml) (5.5.0)\n",
            "Requirement already satisfied: imbalanced-learn>=0.8.0 in /usr/local/lib/python3.7/dist-packages (from evalml) (0.8.1)\n",
            "Requirement already satisfied: dask>=2021.10.0 in /usr/local/lib/python3.7/dist-packages (from evalml) (2021.12.0)\n",
            "Requirement already satisfied: numpy>=1.20.0 in /usr/local/lib/python3.7/dist-packages (from evalml) (1.21.5)\n",
            "Requirement already satisfied: statsmodels>=0.12.2 in /usr/local/lib/python3.7/dist-packages (from evalml) (0.13.1)\n",
            "Requirement already satisfied: lightgbm>=2.3.1 in /usr/local/lib/python3.7/dist-packages (from evalml) (3.3.2)\n",
            "Requirement already satisfied: colorama>=0.4.4 in /usr/local/lib/python3.7/dist-packages (from evalml) (0.4.4)\n",
            "Requirement already satisfied: lime>=0.2.0.1 in /usr/local/lib/python3.7/dist-packages (from evalml) (0.2.0.1)\n",
            "Requirement already satisfied: featuretools>=1.2.0 in /usr/local/lib/python3.7/dist-packages (from evalml) (1.4.0)\n",
            "Requirement already satisfied: pyzmq>=20.0.0 in /usr/local/lib/python3.7/dist-packages (from evalml) (22.3.0)\n",
            "Requirement already satisfied: setuptools in /usr/local/lib/python3.7/dist-packages (from numba==0.53->evalml) (57.4.0)\n",
            "Requirement already satisfied: llvmlite<0.37,>=0.36.0rc1 in /usr/local/lib/python3.7/dist-packages (from numba==0.53->evalml) (0.36.0)\n",
            "Requirement already satisfied: Cython<0.29.18,>=0.29 in /usr/local/lib/python3.7/dist-packages (from pmdarima==1.8.0->evalml) (0.29.17)\n",
            "Requirement already satisfied: joblib>=0.11 in /usr/local/lib/python3.7/dist-packages (from pmdarima==1.8.0->evalml) (1.1.0)\n",
            "Requirement already satisfied: urllib3 in /usr/local/lib/python3.7/dist-packages (from pmdarima==1.8.0->evalml) (1.24.3)\n",
            "Requirement already satisfied: six in /usr/local/lib/python3.7/dist-packages (from catboost>=0.20->evalml) (1.15.0)\n",
            "Requirement already satisfied: patsy>=0.5.1 in /usr/local/lib/python3.7/dist-packages (from category-encoders>=2.2.2->evalml) (0.5.2)\n",
            "Requirement already satisfied: packaging>=20.0 in /usr/local/lib/python3.7/dist-packages (from dask>=2021.10.0->evalml) (21.3)\n",
            "Requirement already satisfied: pyyaml in /usr/local/lib/python3.7/dist-packages (from dask>=2021.10.0->evalml) (3.13)\n",
            "Requirement already satisfied: toolz>=0.8.2 in /usr/local/lib/python3.7/dist-packages (from dask>=2021.10.0->evalml) (0.11.2)\n",
            "Requirement already satisfied: partd>=0.3.10 in /usr/local/lib/python3.7/dist-packages (from dask>=2021.10.0->evalml) (1.2.0)\n",
            "Requirement already satisfied: fsspec>=0.6.0 in /usr/local/lib/python3.7/dist-packages (from dask>=2021.10.0->evalml) (2022.1.0)\n",
            "Requirement already satisfied: psutil>=5.6.6 in /usr/local/lib/python3.7/dist-packages (from featuretools>=1.2.0->evalml) (5.9.0)\n",
            "Requirement already satisfied: distributed>=2021.10.0 in /usr/local/lib/python3.7/dist-packages (from featuretools>=1.2.0->evalml) (2021.12.0)\n",
            "Requirement already satisfied: tqdm>=4.32.0 in /usr/local/lib/python3.7/dist-packages (from featuretools>=1.2.0->evalml) (4.62.3)\n",
            "Requirement already satisfied: tornado>=5 in /usr/local/lib/python3.7/dist-packages (from distributed>=2021.10.0->featuretools>=1.2.0->evalml) (5.1.1)\n",
            "Requirement already satisfied: jinja2 in /usr/local/lib/python3.7/dist-packages (from distributed>=2021.10.0->featuretools>=1.2.0->evalml) (2.11.3)\n",
            "Requirement already satisfied: tblib>=1.6.0 in /usr/local/lib/python3.7/dist-packages (from distributed>=2021.10.0->featuretools>=1.2.0->evalml) (1.7.0)\n",
            "Requirement already satisfied: zict>=0.1.3 in /usr/local/lib/python3.7/dist-packages (from distributed>=2021.10.0->featuretools>=1.2.0->evalml) (2.0.0)\n",
            "Requirement already satisfied: sortedcontainers!=2.0.0,!=2.0.1 in /usr/local/lib/python3.7/dist-packages (from distributed>=2021.10.0->featuretools>=1.2.0->evalml) (2.4.0)\n",
            "Requirement already satisfied: msgpack>=0.6.0 in /usr/local/lib/python3.7/dist-packages (from distributed>=2021.10.0->featuretools>=1.2.0->evalml) (1.0.3)\n",
            "Requirement already satisfied: ipython>=4.0.0 in /usr/local/lib/python3.7/dist-packages (from ipywidgets>=7.5->evalml) (5.5.0)\n",
            "Requirement already satisfied: jupyterlab-widgets>=1.0.0 in /usr/local/lib/python3.7/dist-packages (from ipywidgets>=7.5->evalml) (1.0.2)\n",
            "Requirement already satisfied: widgetsnbextension~=3.5.0 in /usr/local/lib/python3.7/dist-packages (from ipywidgets>=7.5->evalml) (3.5.2)\n",
            "Requirement already satisfied: ipython-genutils~=0.2.0 in /usr/local/lib/python3.7/dist-packages (from ipywidgets>=7.5->evalml) (0.2.0)\n",
            "Requirement already satisfied: traitlets>=4.3.1 in /usr/local/lib/python3.7/dist-packages (from ipywidgets>=7.5->evalml) (5.1.1)\n",
            "Requirement already satisfied: ipykernel>=4.5.1 in /usr/local/lib/python3.7/dist-packages (from ipywidgets>=7.5->evalml) (4.10.1)\n",
            "Requirement already satisfied: nbformat>=4.2.0 in /usr/local/lib/python3.7/dist-packages (from ipywidgets>=7.5->evalml) (5.1.3)\n",
            "Requirement already satisfied: jupyter-client in /usr/local/lib/python3.7/dist-packages (from ipykernel>=4.5.1->ipywidgets>=7.5->evalml) (5.3.5)\n",
            "Requirement already satisfied: pygments in /usr/local/lib/python3.7/dist-packages (from ipython>=4.0.0->ipywidgets>=7.5->evalml) (2.6.1)\n",
            "Requirement already satisfied: pickleshare in /usr/local/lib/python3.7/dist-packages (from ipython>=4.0.0->ipywidgets>=7.5->evalml) (0.7.5)\n",
            "Requirement already satisfied: simplegeneric>0.8 in /usr/local/lib/python3.7/dist-packages (from ipython>=4.0.0->ipywidgets>=7.5->evalml) (0.8.1)\n",
            "Requirement already satisfied: decorator in /usr/local/lib/python3.7/dist-packages (from ipython>=4.0.0->ipywidgets>=7.5->evalml) (4.4.2)\n",
            "Requirement already satisfied: pexpect in /usr/local/lib/python3.7/dist-packages (from ipython>=4.0.0->ipywidgets>=7.5->evalml) (4.8.0)\n",
            "Requirement already satisfied: prompt-toolkit<2.0.0,>=1.0.4 in /usr/local/lib/python3.7/dist-packages (from ipython>=4.0.0->ipywidgets>=7.5->evalml) (1.0.18)\n",
            "Requirement already satisfied: wheel in /usr/local/lib/python3.7/dist-packages (from lightgbm>=2.3.1->evalml) (0.37.1)\n",
            "Requirement already satisfied: scikit-image>=0.12 in /usr/local/lib/python3.7/dist-packages (from lime>=0.2.0.1->evalml) (0.18.3)\n",
            "Requirement already satisfied: python-dateutil>=2.7 in /usr/local/lib/python3.7/dist-packages (from matplotlib>=3.3.3->evalml) (2.8.2)\n",
            "Requirement already satisfied: kiwisolver>=1.0.1 in /usr/local/lib/python3.7/dist-packages (from matplotlib>=3.3.3->evalml) (1.3.2)\n",
            "Requirement already satisfied: pillow>=6.2.0 in /usr/local/lib/python3.7/dist-packages (from matplotlib>=3.3.3->evalml) (7.1.2)\n",
            "Requirement already satisfied: fonttools>=4.22.0 in /usr/local/lib/python3.7/dist-packages (from matplotlib>=3.3.3->evalml) (4.28.5)\n",
            "Requirement already satisfied: cycler>=0.10 in /usr/local/lib/python3.7/dist-packages (from matplotlib>=3.3.3->evalml) (0.11.0)\n",
            "Requirement already satisfied: pyparsing>=2.2.1 in /usr/local/lib/python3.7/dist-packages (from matplotlib>=3.3.3->evalml) (3.0.6)\n",
            "Requirement already satisfied: jsonschema!=2.5.0,>=2.4 in /usr/local/lib/python3.7/dist-packages (from nbformat>=4.2.0->ipywidgets>=7.5->evalml) (4.3.3)\n",
            "Requirement already satisfied: jupyter-core in /usr/local/lib/python3.7/dist-packages (from nbformat>=4.2.0->ipywidgets>=7.5->evalml) (4.9.1)\n",
            "Requirement already satisfied: importlib-metadata in /usr/local/lib/python3.7/dist-packages (from jsonschema!=2.5.0,>=2.4->nbformat>=4.2.0->ipywidgets>=7.5->evalml) (4.10.0)\n",
            "Requirement already satisfied: pyrsistent!=0.17.0,!=0.17.1,!=0.17.2,>=0.14.0 in /usr/local/lib/python3.7/dist-packages (from jsonschema!=2.5.0,>=2.4->nbformat>=4.2.0->ipywidgets>=7.5->evalml) (0.18.0)\n",
            "Requirement already satisfied: attrs>=17.4.0 in /usr/local/lib/python3.7/dist-packages (from jsonschema!=2.5.0,>=2.4->nbformat>=4.2.0->ipywidgets>=7.5->evalml) (21.4.0)\n",
            "Requirement already satisfied: importlib-resources>=1.4.0 in /usr/local/lib/python3.7/dist-packages (from jsonschema!=2.5.0,>=2.4->nbformat>=4.2.0->ipywidgets>=7.5->evalml) (5.4.0)\n",
            "Requirement already satisfied: typing-extensions in /usr/local/lib/python3.7/dist-packages (from jsonschema!=2.5.0,>=2.4->nbformat>=4.2.0->ipywidgets>=7.5->evalml) (3.10.0.2)\n",
            "Requirement already satisfied: zipp>=3.1.0 in /usr/local/lib/python3.7/dist-packages (from importlib-resources>=1.4.0->jsonschema!=2.5.0,>=2.4->nbformat>=4.2.0->ipywidgets>=7.5->evalml) (3.7.0)\n",
            "Requirement already satisfied: nltk<3.6.6,>=3.4.5 in /usr/local/lib/python3.7/dist-packages (from nlp-primitives>=2.1.0->evalml) (3.6.5)\n",
            "Requirement already satisfied: regex>=2021.8.3 in /usr/local/lib/python3.7/dist-packages (from nltk<3.6.6,>=3.4.5->nlp-primitives>=2.1.0->evalml) (2021.11.10)\n",
            "Requirement already satisfied: pytz>=2017.3 in /usr/local/lib/python3.7/dist-packages (from pandas>=1.3.0->evalml) (2018.9)\n",
            "Requirement already satisfied: locket in /usr/local/lib/python3.7/dist-packages (from partd>=0.3.10->dask>=2021.10.0->evalml) (0.2.1)\n",
            "Requirement already satisfied: tenacity>=6.2.0 in /usr/local/lib/python3.7/dist-packages (from plotly>=5.0.0->evalml) (8.0.1)\n",
            "Requirement already satisfied: wcwidth in /usr/local/lib/python3.7/dist-packages (from prompt-toolkit<2.0.0,>=1.0.4->ipython>=4.0.0->ipywidgets>=7.5->evalml) (0.2.5)\n",
            "Requirement already satisfied: types-setuptools<58.0.0,>=57.4.4 in /usr/local/lib/python3.7/dist-packages (from requirements-parser>=0.2.0->evalml) (57.4.7)\n",
            "Requirement already satisfied: tifffile>=2019.7.26 in /usr/local/lib/python3.7/dist-packages (from scikit-image>=0.12->lime>=0.2.0.1->evalml) (2021.11.2)\n",
            "Requirement already satisfied: imageio>=2.3.0 in /usr/local/lib/python3.7/dist-packages (from scikit-image>=0.12->lime>=0.2.0.1->evalml) (2.4.1)\n",
            "Requirement already satisfied: PyWavelets>=1.1.1 in /usr/local/lib/python3.7/dist-packages (from scikit-image>=0.12->lime>=0.2.0.1->evalml) (1.2.0)\n",
            "Requirement already satisfied: threadpoolctl>=2.0.0 in /usr/local/lib/python3.7/dist-packages (from scikit-learn>=0.24.0->evalml) (3.0.0)\n",
            "Requirement already satisfied: pyaml>=16.9 in /usr/local/lib/python3.7/dist-packages (from scikit-optimize>=0.8.1->evalml) (21.10.1)\n",
            "Requirement already satisfied: slicer==0.0.7 in /usr/local/lib/python3.7/dist-packages (from shap>=0.36.0->evalml) (0.0.7)\n",
            "Requirement already satisfied: notebook>=4.4.1 in /usr/local/lib/python3.7/dist-packages (from widgetsnbextension~=3.5.0->ipywidgets>=7.5->evalml) (5.3.1)\n",
            "Requirement already satisfied: nbconvert in /usr/local/lib/python3.7/dist-packages (from notebook>=4.4.1->widgetsnbextension~=3.5.0->ipywidgets>=7.5->evalml) (5.6.1)\n",
            "Requirement already satisfied: Send2Trash in /usr/local/lib/python3.7/dist-packages (from notebook>=4.4.1->widgetsnbextension~=3.5.0->ipywidgets>=7.5->evalml) (1.8.0)\n",
            "Requirement already satisfied: terminado>=0.8.1 in /usr/local/lib/python3.7/dist-packages (from notebook>=4.4.1->widgetsnbextension~=3.5.0->ipywidgets>=7.5->evalml) (0.12.1)\n",
            "Requirement already satisfied: ptyprocess in /usr/local/lib/python3.7/dist-packages (from terminado>=0.8.1->notebook>=4.4.1->widgetsnbextension~=3.5.0->ipywidgets>=7.5->evalml) (0.7.0)\n",
            "Requirement already satisfied: heapdict in /usr/local/lib/python3.7/dist-packages (from zict>=0.1.3->distributed>=2021.10.0->featuretools>=1.2.0->evalml) (1.0.1)\n",
            "Requirement already satisfied: MarkupSafe>=0.23 in /usr/local/lib/python3.7/dist-packages (from jinja2->distributed>=2021.10.0->featuretools>=1.2.0->evalml) (2.0.1)\n",
            "Requirement already satisfied: defusedxml in /usr/local/lib/python3.7/dist-packages (from nbconvert->notebook>=4.4.1->widgetsnbextension~=3.5.0->ipywidgets>=7.5->evalml) (0.7.1)\n",
            "Requirement already satisfied: pandocfilters>=1.4.1 in /usr/local/lib/python3.7/dist-packages (from nbconvert->notebook>=4.4.1->widgetsnbextension~=3.5.0->ipywidgets>=7.5->evalml) (1.5.0)\n",
            "Requirement already satisfied: mistune<2,>=0.8.1 in /usr/local/lib/python3.7/dist-packages (from nbconvert->notebook>=4.4.1->widgetsnbextension~=3.5.0->ipywidgets>=7.5->evalml) (0.8.4)\n",
            "Requirement already satisfied: testpath in /usr/local/lib/python3.7/dist-packages (from nbconvert->notebook>=4.4.1->widgetsnbextension~=3.5.0->ipywidgets>=7.5->evalml) (0.5.0)\n",
            "Requirement already satisfied: bleach in /usr/local/lib/python3.7/dist-packages (from nbconvert->notebook>=4.4.1->widgetsnbextension~=3.5.0->ipywidgets>=7.5->evalml) (4.1.0)\n",
            "Requirement already satisfied: entrypoints>=0.2.2 in /usr/local/lib/python3.7/dist-packages (from nbconvert->notebook>=4.4.1->widgetsnbextension~=3.5.0->ipywidgets>=7.5->evalml) (0.3)\n",
            "Requirement already satisfied: webencodings in /usr/local/lib/python3.7/dist-packages (from bleach->nbconvert->notebook>=4.4.1->widgetsnbextension~=3.5.0->ipywidgets>=7.5->evalml) (0.5.1)\n"
          ]
        }
      ],
      "source": [
        "pip install evalml\n"
      ]
    },
    {
      "cell_type": "code",
      "execution_count": null,
      "metadata": {
        "id": "9skXDB2G8Pp6",
        "colab": {
          "base_uri": "https://localhost:8080/",
          "height": 864
        },
        "outputId": "c5e5b6cc-2b8f-4132-fceb-eb308fe3068b"
      },
      "outputs": [
        {
          "output_type": "execute_result",
          "data": {
            "text/html": [
              "\n",
              "  <div id=\"df-1234d83c-7ada-4a39-8295-dfe1a660d06a\">\n",
              "    <div class=\"colab-df-container\">\n",
              "      <div>\n",
              "<style scoped>\n",
              "    .dataframe tbody tr th:only-of-type {\n",
              "        vertical-align: middle;\n",
              "    }\n",
              "\n",
              "    .dataframe tbody tr th {\n",
              "        vertical-align: top;\n",
              "    }\n",
              "\n",
              "    .dataframe thead th {\n",
              "        text-align: right;\n",
              "    }\n",
              "</style>\n",
              "<table border=\"1\" class=\"dataframe\">\n",
              "  <thead>\n",
              "    <tr style=\"text-align: right;\">\n",
              "      <th></th>\n",
              "      <th>id</th>\n",
              "      <th>pipeline_name</th>\n",
              "      <th>search_order</th>\n",
              "      <th>mean_cv_score</th>\n",
              "      <th>standard_deviation_cv_score</th>\n",
              "      <th>validation_score</th>\n",
              "      <th>percent_better_than_baseline</th>\n",
              "      <th>high_variance_cv</th>\n",
              "      <th>parameters</th>\n",
              "    </tr>\n",
              "  </thead>\n",
              "  <tbody>\n",
              "    <tr>\n",
              "      <th>0</th>\n",
              "      <td>3</td>\n",
              "      <td>XGBoost Classifier w/ Label Encoder + Imputer</td>\n",
              "      <td>3</td>\n",
              "      <td>0.349049</td>\n",
              "      <td>0.007440</td>\n",
              "      <td>0.349049</td>\n",
              "      <td>95.015531</td>\n",
              "      <td>False</td>\n",
              "      <td>{'Label Encoder': {'positive_label': None}, 'I...</td>\n",
              "    </tr>\n",
              "    <tr>\n",
              "      <th>1</th>\n",
              "      <td>6</td>\n",
              "      <td>Random Forest Classifier w/ Label Encoder + Im...</td>\n",
              "      <td>6</td>\n",
              "      <td>0.355488</td>\n",
              "      <td>0.009325</td>\n",
              "      <td>0.355488</td>\n",
              "      <td>94.923584</td>\n",
              "      <td>False</td>\n",
              "      <td>{'Label Encoder': {'positive_label': None}, 'I...</td>\n",
              "    </tr>\n",
              "    <tr>\n",
              "      <th>2</th>\n",
              "      <td>4</td>\n",
              "      <td>LightGBM Classifier w/ Label Encoder + Imputer</td>\n",
              "      <td>4</td>\n",
              "      <td>0.360270</td>\n",
              "      <td>0.008034</td>\n",
              "      <td>0.360270</td>\n",
              "      <td>94.855290</td>\n",
              "      <td>False</td>\n",
              "      <td>{'Label Encoder': {'positive_label': None}, 'I...</td>\n",
              "    </tr>\n",
              "    <tr>\n",
              "      <th>3</th>\n",
              "      <td>8</td>\n",
              "      <td>Extra Trees Classifier w/ Label Encoder + Imputer</td>\n",
              "      <td>8</td>\n",
              "      <td>0.379797</td>\n",
              "      <td>0.005566</td>\n",
              "      <td>0.379797</td>\n",
              "      <td>94.576453</td>\n",
              "      <td>False</td>\n",
              "      <td>{'Label Encoder': {'positive_label': None}, 'I...</td>\n",
              "    </tr>\n",
              "    <tr>\n",
              "      <th>4</th>\n",
              "      <td>1</td>\n",
              "      <td>Elastic Net Classifier w/ Label Encoder + Impu...</td>\n",
              "      <td>1</td>\n",
              "      <td>0.438657</td>\n",
              "      <td>0.008480</td>\n",
              "      <td>0.438657</td>\n",
              "      <td>93.735914</td>\n",
              "      <td>False</td>\n",
              "      <td>{'Label Encoder': {'positive_label': None}, 'I...</td>\n",
              "    </tr>\n",
              "    <tr>\n",
              "      <th>5</th>\n",
              "      <td>2</td>\n",
              "      <td>Logistic Regression Classifier w/ Label Encode...</td>\n",
              "      <td>2</td>\n",
              "      <td>0.438657</td>\n",
              "      <td>0.008482</td>\n",
              "      <td>0.438657</td>\n",
              "      <td>93.735913</td>\n",
              "      <td>False</td>\n",
              "      <td>{'Label Encoder': {'positive_label': None}, 'I...</td>\n",
              "    </tr>\n",
              "    <tr>\n",
              "      <th>6</th>\n",
              "      <td>7</td>\n",
              "      <td>Decision Tree Classifier w/ Label Encoder + Im...</td>\n",
              "      <td>7</td>\n",
              "      <td>0.550178</td>\n",
              "      <td>0.077910</td>\n",
              "      <td>0.550178</td>\n",
              "      <td>92.143390</td>\n",
              "      <td>False</td>\n",
              "      <td>{'Label Encoder': {'positive_label': None}, 'I...</td>\n",
              "    </tr>\n",
              "    <tr>\n",
              "      <th>7</th>\n",
              "      <td>5</td>\n",
              "      <td>CatBoost Classifier w/ Label Encoder + Imputer</td>\n",
              "      <td>5</td>\n",
              "      <td>0.573928</td>\n",
              "      <td>0.000547</td>\n",
              "      <td>0.573928</td>\n",
              "      <td>91.804237</td>\n",
              "      <td>False</td>\n",
              "      <td>{'Label Encoder': {'positive_label': None}, 'I...</td>\n",
              "    </tr>\n",
              "    <tr>\n",
              "      <th>8</th>\n",
              "      <td>0</td>\n",
              "      <td>Mode Baseline Binary Classification Pipeline</td>\n",
              "      <td>0</td>\n",
              "      <td>7.002736</td>\n",
              "      <td>0.005962</td>\n",
              "      <td>7.002736</td>\n",
              "      <td>0.000000</td>\n",
              "      <td>False</td>\n",
              "      <td>{'Label Encoder': {'positive_label': None}, 'B...</td>\n",
              "    </tr>\n",
              "  </tbody>\n",
              "</table>\n",
              "</div>\n",
              "      <button class=\"colab-df-convert\" onclick=\"convertToInteractive('df-1234d83c-7ada-4a39-8295-dfe1a660d06a')\"\n",
              "              title=\"Convert this dataframe to an interactive table.\"\n",
              "              style=\"display:none;\">\n",
              "        \n",
              "  <svg xmlns=\"http://www.w3.org/2000/svg\" height=\"24px\"viewBox=\"0 0 24 24\"\n",
              "       width=\"24px\">\n",
              "    <path d=\"M0 0h24v24H0V0z\" fill=\"none\"/>\n",
              "    <path d=\"M18.56 5.44l.94 2.06.94-2.06 2.06-.94-2.06-.94-.94-2.06-.94 2.06-2.06.94zm-11 1L8.5 8.5l.94-2.06 2.06-.94-2.06-.94L8.5 2.5l-.94 2.06-2.06.94zm10 10l.94 2.06.94-2.06 2.06-.94-2.06-.94-.94-2.06-.94 2.06-2.06.94z\"/><path d=\"M17.41 7.96l-1.37-1.37c-.4-.4-.92-.59-1.43-.59-.52 0-1.04.2-1.43.59L10.3 9.45l-7.72 7.72c-.78.78-.78 2.05 0 2.83L4 21.41c.39.39.9.59 1.41.59.51 0 1.02-.2 1.41-.59l7.78-7.78 2.81-2.81c.8-.78.8-2.07 0-2.86zM5.41 20L4 18.59l7.72-7.72 1.47 1.35L5.41 20z\"/>\n",
              "  </svg>\n",
              "      </button>\n",
              "      \n",
              "  <style>\n",
              "    .colab-df-container {\n",
              "      display:flex;\n",
              "      flex-wrap:wrap;\n",
              "      gap: 12px;\n",
              "    }\n",
              "\n",
              "    .colab-df-convert {\n",
              "      background-color: #E8F0FE;\n",
              "      border: none;\n",
              "      border-radius: 50%;\n",
              "      cursor: pointer;\n",
              "      display: none;\n",
              "      fill: #1967D2;\n",
              "      height: 32px;\n",
              "      padding: 0 0 0 0;\n",
              "      width: 32px;\n",
              "    }\n",
              "\n",
              "    .colab-df-convert:hover {\n",
              "      background-color: #E2EBFA;\n",
              "      box-shadow: 0px 1px 2px rgba(60, 64, 67, 0.3), 0px 1px 3px 1px rgba(60, 64, 67, 0.15);\n",
              "      fill: #174EA6;\n",
              "    }\n",
              "\n",
              "    [theme=dark] .colab-df-convert {\n",
              "      background-color: #3B4455;\n",
              "      fill: #D2E3FC;\n",
              "    }\n",
              "\n",
              "    [theme=dark] .colab-df-convert:hover {\n",
              "      background-color: #434B5C;\n",
              "      box-shadow: 0px 1px 3px 1px rgba(0, 0, 0, 0.15);\n",
              "      filter: drop-shadow(0px 1px 2px rgba(0, 0, 0, 0.3));\n",
              "      fill: #FFFFFF;\n",
              "    }\n",
              "  </style>\n",
              "\n",
              "      <script>\n",
              "        const buttonEl =\n",
              "          document.querySelector('#df-1234d83c-7ada-4a39-8295-dfe1a660d06a button.colab-df-convert');\n",
              "        buttonEl.style.display =\n",
              "          google.colab.kernel.accessAllowed ? 'block' : 'none';\n",
              "\n",
              "        async function convertToInteractive(key) {\n",
              "          const element = document.querySelector('#df-1234d83c-7ada-4a39-8295-dfe1a660d06a');\n",
              "          const dataTable =\n",
              "            await google.colab.kernel.invokeFunction('convertToInteractive',\n",
              "                                                     [key], {});\n",
              "          if (!dataTable) return;\n",
              "\n",
              "          const docLinkHtml = 'Like what you see? Visit the ' +\n",
              "            '<a target=\"_blank\" href=https://colab.research.google.com/notebooks/data_table.ipynb>data table notebook</a>'\n",
              "            + ' to learn more about interactive tables.';\n",
              "          element.innerHTML = '';\n",
              "          dataTable['output_type'] = 'display_data';\n",
              "          await google.colab.output.renderOutput(dataTable, element);\n",
              "          const docLink = document.createElement('div');\n",
              "          docLink.innerHTML = docLinkHtml;\n",
              "          element.appendChild(docLink);\n",
              "        }\n",
              "      </script>\n",
              "    </div>\n",
              "  </div>\n",
              "  "
            ],
            "text/plain": [
              "   id  ...                                         parameters\n",
              "0   3  ...  {'Label Encoder': {'positive_label': None}, 'I...\n",
              "1   6  ...  {'Label Encoder': {'positive_label': None}, 'I...\n",
              "2   4  ...  {'Label Encoder': {'positive_label': None}, 'I...\n",
              "3   8  ...  {'Label Encoder': {'positive_label': None}, 'I...\n",
              "4   1  ...  {'Label Encoder': {'positive_label': None}, 'I...\n",
              "5   2  ...  {'Label Encoder': {'positive_label': None}, 'I...\n",
              "6   7  ...  {'Label Encoder': {'positive_label': None}, 'I...\n",
              "7   5  ...  {'Label Encoder': {'positive_label': None}, 'I...\n",
              "8   0  ...  {'Label Encoder': {'positive_label': None}, 'B...\n",
              "\n",
              "[9 rows x 9 columns]"
            ]
          },
          "metadata": {},
          "execution_count": 34
        }
      ],
      "source": [
        "import evalml\n",
        "from evalml import AutoMLSearch\n",
        "automl=AutoMLSearch(X_train=X_train,y_train=y_train,problem_type='binary',max_batches=1,optimize_thresholds=True)\n",
        "automl.search()\n",
        "automl.rankings"
      ]
    },
    {
      "cell_type": "markdown",
      "metadata": {
        "id": "Q-1vnEis8ZoY"
      },
      "source": [
        "###Finding the best pipeline"
      ]
    },
    {
      "cell_type": "code",
      "execution_count": null,
      "metadata": {
        "id": "EKnBv8G-8U-a",
        "colab": {
          "base_uri": "https://localhost:8080/"
        },
        "outputId": "40a420cb-68c5-49ac-a1d8-8c82fc5830be"
      },
      "outputs": [
        {
          "output_type": "execute_result",
          "data": {
            "text/plain": [
              "pipeline = BinaryClassificationPipeline(component_graph={'Label Encoder': ['Label Encoder', 'X', 'y'], 'Imputer': ['Imputer', 'X', 'Label Encoder.y'], 'XGBoost Classifier': ['XGBoost Classifier', 'Imputer.x', 'Label Encoder.y']}, parameters={'Label Encoder':{'positive_label': None}, 'Imputer':{'categorical_impute_strategy': 'most_frequent', 'numeric_impute_strategy': 'mean', 'categorical_fill_value': None, 'numeric_fill_value': None}, 'XGBoost Classifier':{'eta': 0.1, 'max_depth': 6, 'min_child_weight': 1, 'n_estimators': 100, 'n_jobs': -1, 'eval_metric': 'logloss'}}, random_seed=0)"
            ]
          },
          "metadata": {},
          "execution_count": 35
        }
      ],
      "source": [
        "best_pipeline = automl.best_pipeline\n",
        "best_pipeline"
      ]
    },
    {
      "cell_type": "markdown",
      "metadata": {
        "id": "542v56Kh9Dhi"
      },
      "source": [
        "### Best parameters"
      ]
    },
    {
      "cell_type": "code",
      "execution_count": null,
      "metadata": {
        "id": "bB2MfEyt9Cf6",
        "colab": {
          "base_uri": "https://localhost:8080/"
        },
        "outputId": "f47d0603-fbd3-43d8-c450-d61adbe606dc"
      },
      "outputs": [
        {
          "output_type": "stream",
          "name": "stdout",
          "text": [
            "\n",
            "*************************************************\n",
            "* XGBoost Classifier w/ Label Encoder + Imputer *\n",
            "*************************************************\n",
            "\n",
            "Problem Type: binary\n",
            "Model Family: XGBoost\n",
            "\n",
            "Pipeline Steps\n",
            "==============\n",
            "1. Label Encoder\n",
            "\t * positive_label : None\n",
            "2. Imputer\n",
            "\t * categorical_impute_strategy : most_frequent\n",
            "\t * numeric_impute_strategy : mean\n",
            "\t * categorical_fill_value : None\n",
            "\t * numeric_fill_value : None\n",
            "3. XGBoost Classifier\n",
            "\t * eta : 0.1\n",
            "\t * max_depth : 6\n",
            "\t * min_child_weight : 1\n",
            "\t * n_estimators : 100\n",
            "\t * n_jobs : -1\n",
            "\t * eval_metric : logloss\n",
            "\n",
            "Training\n",
            "========\n",
            "Training for binary problems.\n",
            "Total training time (including CV): 3.1 seconds\n",
            "\n",
            "Cross Validation\n",
            "----------------\n",
            "             Log Loss Binary  MCC Binary  Gini   AUC  Precision    F1  Balanced Accuracy Binary  Accuracy Binary # Training # Validation\n",
            "0                      0.353       0.538 0.703 0.851      0.687 0.619                     0.749            0.859      5,333        2,667\n",
            "1                      0.341       0.531 0.714 0.857      0.655 0.621                     0.755            0.854      5,333        2,667\n",
            "2                      0.354       0.497 0.701 0.850      0.629 0.592                     0.738            0.844      5,334        2,666\n",
            "mean                   0.349       0.522 0.706 0.853      0.657 0.611                     0.747            0.852          -            -\n",
            "std                    0.007       0.022 0.007 0.004      0.029 0.016                     0.009            0.008          -            -\n",
            "coef of var            0.021       0.042 0.010 0.004      0.044 0.026                     0.012            0.009          -            -\n"
          ]
        }
      ],
      "source": [
        "automl.describe_pipeline(automl.rankings.iloc[0][\"id\"])"
      ]
    },
    {
      "cell_type": "markdown",
      "metadata": {
        "id": "njzlSjC99JkN"
      },
      "source": [
        "### Accuracy"
      ]
    },
    {
      "cell_type": "code",
      "execution_count": null,
      "metadata": {
        "id": "oxEvfO6r9NwK",
        "colab": {
          "base_uri": "https://localhost:8080/"
        },
        "outputId": "decce708-5159-4ee1-f511-8290f2dae45c"
      },
      "outputs": [
        {
          "output_type": "stream",
          "name": "stdout",
          "text": [
            "Accuracy : 0.8525\n"
          ]
        }
      ],
      "source": [
        "scores = best_pipeline.score(X_test, y_test,  objectives=evalml.objectives.get_core_objectives('binary'))\n",
        "print(f'Accuracy : {scores[\"Accuracy Binary\"]}')"
      ]
    }
  ],
  "metadata": {
    "colab": {
      "collapsed_sections": [
        "kM3mxREyQhNP"
      ],
      "name": "Individual_project.ipynb",
      "provenance": []
    },
    "kernelspec": {
      "display_name": "Python 3",
      "name": "python3"
    },
    "language_info": {
      "name": "python"
    }
  },
  "nbformat": 4,
  "nbformat_minor": 0
}